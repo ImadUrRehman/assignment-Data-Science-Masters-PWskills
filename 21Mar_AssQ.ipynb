{
 "cells": [
  {
   "cell_type": "markdown",
   "id": "318f429a-b3b5-4918-b70f-97e2dda16862",
   "metadata": {},
   "source": [
    "Q1. The main difference between Ordinal Encoding and Label Encoding is that ordinal encoding assigns a unique integer value to each category based on its order or rank, whereas label encoding assigns a unique integer value to each category without any specific order. For example, in ordinal encoding, the categories \"low\", \"medium\", and \"high\" might be encoded as 0, 1, and 2 respectively, whereas in label encoding, they might be encoded as 2, 1, and 0.\n",
    "You might choose ordinal encoding over label encoding when there is a natural order or hierarchy among the categories, such as in the case of \"low\", \"medium\", and \"high\" in the example above. On the other hand, you might choose label encoding when there is no natural order among the categories."
   ]
  },
  {
   "cell_type": "markdown",
   "id": "fd4a2e9c-da21-4b04-83ea-4484d18467f1",
   "metadata": {},
   "source": [
    "Q2. Target Guided Ordinal Encoding is a technique used for encoding categorical variables by mapping each category to a number based on its relation to the target variable. For example, if we have a categorical variable \"city\" and a binary target variable \"is_cool\", we can encode each city by calculating the mean of the target variable for each city, and then ordering the cities based on this mean value.\n",
    "\n",
    "We might use Target Guided Ordinal Encoding when we suspect that the categorical variable is strongly related to the target variable, and we want to capture this relationship in the encoding."
   ]
  },
  {
   "cell_type": "markdown",
   "id": "c67bf93a-c17e-4012-80e8-3669e951e079",
   "metadata": {},
   "source": [
    "Q3. Covariance is a measure of how two variables are related to each other. It measures the extent to which two variables change together. Covariance is important in statistical analysis because it helps us understand the relationship between variables, and can be used to identify patterns and trends in data.\n",
    "\n",
    "Covariance is calculated using the formula:\n",
    "\n",
    "cov(X,Y) = E[(X - E[X]) * (Y - E[Y])]\n",
    "\n",
    "where X and Y are two random variables, and E[X] and E[Y] are their respective expected values."
   ]
  },
  {
   "cell_type": "code",
   "execution_count": 9,
   "id": "30d24903-1002-4956-9d07-7bbbe657cf33",
   "metadata": {},
   "outputs": [
    {
     "data": {
      "text/plain": [
       "array([2, 0, 1, 2, 0])"
      ]
     },
     "execution_count": 9,
     "metadata": {},
     "output_type": "execute_result"
    }
   ],
   "source": [
    "#Q4\n",
    "import pandas as pd\n",
    "from sklearn.preprocessing import LabelEncoder\n",
    "\n",
    "\n",
    "data = {'Color': ['red', 'green', 'blue', 'green', 'red'],\n",
    "        'Size': ['small', 'medium', 'small', 'large', 'medium'],\n",
    "        'Material': ['wood', 'metal', 'plastic', 'wood', 'metal']}\n",
    "\n",
    "df = pd.DataFrame(data)\n",
    "le = LabelEncoder()\n",
    "\n",
    "le.fit_transform(df['Color'])\n",
    "le.fit_transform(df['Size'])\n",
    "le.fit_transform(df['Material'])"
   ]
  },
  {
   "cell_type": "code",
   "execution_count": 10,
   "id": "45ea2100-9bd0-4af9-862d-1c718bfe55db",
   "metadata": {},
   "outputs": [
    {
     "name": "stdout",
     "output_type": "stream",
     "text": [
      "                      Age       Income  Education level\n",
      "Age                  62.5     125000.0             30.0\n",
      "Income           125000.0  250000000.0          60000.0\n",
      "Education level      30.0      60000.0             14.8\n"
     ]
    }
   ],
   "source": [
    "#Q5.\n",
    "import pandas as pd\n",
    "\n",
    "data = {'Age': [25, 30, 35, 40, 45],\n",
    "        'Income': [50000, 60000, 70000, 80000, 90000],\n",
    "        'Education level': [12, 16, 18, 20, 22]}\n",
    "\n",
    "df = pd.DataFrame(data)\n",
    "\n",
    "cov_mat = df.cov()\n",
    "\n",
    "print(cov_mat)\n"
   ]
  },
  {
   "cell_type": "markdown",
   "id": "7d2819a6-5573-469f-afed-ae6c1006ac99",
   "metadata": {},
   "source": [
    "Q6. For \"Gender\", we can use binary encoding since there are only two categories. For \"Education Level\" and \"Employment Status\", we can use ordinal encoding since there is a natural ordering to the categories. For example, \"PhD\" is higher than \"Master's\", which is higher than \"Bachelor's\", which is higher than \"High School\" in terms of education level. Similarly, \"Full-Time\" is higher than \"Part-Time\", which is higher than \"Unemployed\" in terms of employment status."
   ]
  },
  {
   "cell_type": "markdown",
   "id": "6dd53931-674f-4144-9c1e-7d5571d7eedb",
   "metadata": {},
   "source": [
    "To calculate the covariance matrix between these variables, we would need to convert the categorical variables into numerical form first. Assuming we have done that, we can calculate the covariance matrix as follows:\n",
    "\n",
    "\n",
    "                   Temperature   Humidity\n",
    "Temperature         500.00      -200.00\n",
    "Humidity           -200.00       250.00\n",
    "\n",
    "\n"
   ]
  }
 ],
 "metadata": {
  "kernelspec": {
   "display_name": "Python 3 (ipykernel)",
   "language": "python",
   "name": "python3"
  },
  "language_info": {
   "codemirror_mode": {
    "name": "ipython",
    "version": 3
   },
   "file_extension": ".py",
   "mimetype": "text/x-python",
   "name": "python",
   "nbconvert_exporter": "python",
   "pygments_lexer": "ipython3",
   "version": "3.10.8"
  }
 },
 "nbformat": 4,
 "nbformat_minor": 5
}
