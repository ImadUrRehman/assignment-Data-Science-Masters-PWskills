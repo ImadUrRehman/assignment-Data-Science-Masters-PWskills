{
 "cells": [
  {
   "cell_type": "code",
   "execution_count": 6,
   "id": "0da67fd7",
   "metadata": {},
   "outputs": [
    {
     "data": {
      "text/plain": [
       "[1, 3, 5, 7, 9, 11, 13, 15, 17, 19, 21, 23, 25]"
      ]
     },
     "execution_count": 6,
     "metadata": {},
     "output_type": "execute_result"
    }
   ],
   "source": [
    "'''Q1. Which keyword is used to create a function? Create a function to return a list of odd numbers in the\n",
    "range of 1 to 25.'''\n",
    "\n",
    "#def is used create a function\n",
    "p=[]\n",
    "def prime():\n",
    "    for i in range(26): \n",
    "        if i%2!=0:\n",
    "            p.append(i)\n",
    "    return p\n",
    "prime()"
   ]
  },
  {
   "cell_type": "code",
   "execution_count": 12,
   "id": "b6f77a0a",
   "metadata": {},
   "outputs": [
    {
     "data": {
      "text/plain": [
       "{'x': 1, 'y': 3}"
      ]
     },
     "execution_count": 12,
     "metadata": {},
     "output_type": "execute_result"
    }
   ],
   "source": [
    "\"\"\"Q2. Why *args and **kwargs is used in some functions? Create a function each for *args and **kwargs to\n",
    "demonstrate their use.\"\"\"\n",
    "\n",
    "'''*args allows you to pass a varying number of arguments to a function.\n",
    "These arguments are then passed to the function as a tuple.\n",
    "\n",
    "**kwarg allows you to pass a varying number of arguments to a function with key-value pairs.\n",
    "These arguments are then passed to the function as a dictionary.'''\n",
    "def a(*args):\n",
    "    return args\n",
    "def b(**kwargs):\n",
    "    return kwargs\n",
    "a(1,2,3,4)\n",
    "b(x=1,y=3)"
   ]
  },
  {
   "cell_type": "code",
   "execution_count": 14,
   "id": "48ff7762",
   "metadata": {},
   "outputs": [
    {
     "name": "stdout",
     "output_type": "stream",
     "text": [
      "2\n",
      "4\n",
      "6\n",
      "8\n",
      "10\n"
     ]
    }
   ],
   "source": [
    "'''Q3. What is an iterator in python? Name the method used to initialise the iterator object and the method\n",
    "used for iteration. Use these methods to print the first five elements of the given list [2, 4, 6, 8, 10, 12, 14, 16,\n",
    "18, 20].'''\n",
    "# An iterator is an object that can be iterated (looped) upon.\n",
    "# We can use a for loop to iterate over an iterator object.\n",
    "\n",
    "l=[2, 4, 6, 8, 10, 12, 14, 16, 18, 20]\n",
    "\n",
    "for i in l:\n",
    "    print(i)\n",
    "    if i==l[4]:\n",
    "        break\n"
   ]
  },
  {
   "cell_type": "code",
   "execution_count": 21,
   "id": "63362385",
   "metadata": {},
   "outputs": [
    {
     "name": "stdout",
     "output_type": "stream",
     "text": [
      "0\n",
      "1\n",
      "4\n",
      "9\n",
      "16\n",
      "25\n",
      "36\n",
      "49\n",
      "64\n",
      "81\n",
      "100\n"
     ]
    }
   ],
   "source": [
    "#Q4. What is a generator function in python? Why yield keyword is used? Give an example of a generator function.\n",
    "\n",
    "'''A generator function in Python is a special type of function that returns an iterator object that can be used to \n",
    "iterate over a sequence of values.\n",
    "It's defined using the yield keyword, which allows the function to return a value and pause its execution,\n",
    "resuming from the point it left off when called again.'''\n",
    "def gen(n):\n",
    "    for i in range(n):\n",
    "        yield i**2\n",
    "for a in gen(11):\n",
    "    print(a)"
   ]
  },
  {
   "cell_type": "code",
   "execution_count": 138,
   "id": "08557233",
   "metadata": {},
   "outputs": [],
   "source": [
    "'''Q5. Create a generator function for prime numbers less than 1000. Use the next() method to print the\n",
    "first 20 prime numbers.'''\n",
    "def test_prime():\n",
    "    for i in range(2,1000):\n",
    "        for j in range (2,i):\n",
    "            if i%j==0:\n",
    "                break\n",
    "        else:\n",
    "            yield i\n",
    "                \n",
    "gen = test_prime()"
   ]
  },
  {
   "cell_type": "code",
   "execution_count": 140,
   "id": "fd5497ad",
   "metadata": {},
   "outputs": [
    {
     "name": "stdout",
     "output_type": "stream",
     "text": [
      "2\n",
      "3\n",
      "5\n",
      "7\n",
      "11\n",
      "13\n",
      "17\n",
      "19\n",
      "23\n",
      "29\n",
      "31\n",
      "37\n",
      "41\n",
      "43\n",
      "47\n",
      "53\n",
      "59\n",
      "61\n",
      "67\n",
      "71\n"
     ]
    }
   ],
   "source": [
    "for i in range(20):\n",
    "    print(next(gen))"
   ]
  },
  {
   "cell_type": "code",
   "execution_count": null,
   "id": "f837f4f5",
   "metadata": {},
   "outputs": [],
   "source": []
  }
 ],
 "metadata": {
  "kernelspec": {
   "display_name": "Python 3 (ipykernel)",
   "language": "python",
   "name": "python3"
  },
  "language_info": {
   "codemirror_mode": {
    "name": "ipython",
    "version": 3
   },
   "file_extension": ".py",
   "mimetype": "text/x-python",
   "name": "python",
   "nbconvert_exporter": "python",
   "pygments_lexer": "ipython3",
   "version": "3.9.13"
  }
 },
 "nbformat": 4,
 "nbformat_minor": 5
}
