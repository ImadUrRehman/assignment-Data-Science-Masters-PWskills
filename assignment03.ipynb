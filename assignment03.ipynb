{
 "cells": [
  {
   "cell_type": "raw",
   "id": "44f942fe",
   "metadata": {},
   "source": [
    "Q1. What are the characteristics of the tuples? Is tuple immutable?\n",
    "'''Tuple in Python refers to a collection that is ordered.\n",
    "Tuples are ordered, it means that the items have a defined order, and that order will not change.\n",
    "Tuples are unchangeable, meaning that we cannot change, add or remove items after the tuple has been created.\n",
    "Since tuples are indexed, they can have items with the same value\n",
    "\n",
    "tuple is immutable since elements in tuple cannot be changed'''"
   ]
  },
  {
   "cell_type": "code",
   "execution_count": 3,
   "id": "1cc84d62",
   "metadata": {},
   "outputs": [
    {
     "name": "stdout",
     "output_type": "stream",
     "text": [
      "3\n",
      "1\n"
     ]
    },
    {
     "data": {
      "text/plain": [
       "'tuples have only two in-built methods as compared to Lists because we cannot modify the elements in tuples but in case of list elements can be modified.\\n'"
      ]
     },
     "execution_count": 3,
     "metadata": {},
     "output_type": "execute_result"
    }
   ],
   "source": [
    "'''Q2. What are the two tuple methods in python? Give an example of each method. Give a reason why\n",
    "tuples have only two in-built methods as compared to Lists.\n",
    "\n",
    "the two tuple method in python are 'count()' and 'index()'\n",
    "count() is used how many times an element is occuring\n",
    "index() is used to find index of first occurence of specified element in tuple'''\n",
    "\n",
    "my_tuple = (1, 2, 3, 2, 4, 2)\n",
    "print(my_tuple.count(2))\n",
    "\n",
    "my_tuple = (1, 2, 3, 2, 4, 2)\n",
    "print(my_tuple.index(2))\n",
    "\n",
    "'''tuples have only two in-built methods as compared to Lists because we cannot modify the elements in tuples\n",
    "but in case of list elements can be modified.\n",
    "'''\n"
   ]
  },
  {
   "cell_type": "code",
   "execution_count": 4,
   "id": "19b9097c",
   "metadata": {},
   "outputs": [],
   "source": [
    "'''Q3. Which collection datatypes in python do not allow duplicate items? Write a code using a set to remove\n",
    "duplicates from the given list.'''\n",
    "#Set do not allow duplicate items\n",
    "List = [1, 1, 1, 2, 1, 3, 1, 4, 2, 1, 2, 2, 2, 3, 2, 4, 3, 1, 3, 2, 3, 3, 3, 4, 4, 1, 4, 2, 4, 3, 4, 4]\n",
    "s= set(List)"
   ]
  },
  {
   "cell_type": "code",
   "execution_count": 5,
   "id": "47d585cc",
   "metadata": {},
   "outputs": [
    {
     "data": {
      "text/plain": [
       "{1, 2, 3, 4}"
      ]
     },
     "execution_count": 5,
     "metadata": {},
     "output_type": "execute_result"
    }
   ],
   "source": [
    "s"
   ]
  },
  {
   "cell_type": "code",
   "execution_count": 6,
   "id": "f28927b6",
   "metadata": {},
   "outputs": [],
   "source": [
    "#Q4. Explain the difference between the union() and update() methods for a set. Give an example of each method.\n",
    "\n",
    "#update():Update a set with the union of itself and others it mofifies the set. \n",
    "#union():Return the union of sets as a new set it does not modify the set."
   ]
  },
  {
   "cell_type": "code",
   "execution_count": 16,
   "id": "c2aaef65",
   "metadata": {},
   "outputs": [],
   "source": [
    "s1 = {1,2,3,4,5}\n",
    "s2 = {5,6,7,8}\n",
    "s3 = {9,10,11,12}\n"
   ]
  },
  {
   "cell_type": "code",
   "execution_count": 11,
   "id": "1eecbe3f",
   "metadata": {},
   "outputs": [
    {
     "data": {
      "text/plain": [
       "{1, 2, 3, 4, 5}"
      ]
     },
     "execution_count": 11,
     "metadata": {},
     "output_type": "execute_result"
    }
   ],
   "source": [
    "s1"
   ]
  },
  {
   "cell_type": "code",
   "execution_count": 12,
   "id": "87a8e73e",
   "metadata": {},
   "outputs": [],
   "source": [
    "s1.update(s2)"
   ]
  },
  {
   "cell_type": "code",
   "execution_count": 13,
   "id": "39ed1436",
   "metadata": {},
   "outputs": [
    {
     "data": {
      "text/plain": [
       "{1, 2, 3, 4, 5, 6, 7, 8}"
      ]
     },
     "execution_count": 13,
     "metadata": {},
     "output_type": "execute_result"
    }
   ],
   "source": [
    "s1"
   ]
  },
  {
   "cell_type": "code",
   "execution_count": 17,
   "id": "ea2812c6",
   "metadata": {},
   "outputs": [
    {
     "data": {
      "text/plain": [
       "{1, 2, 3, 4, 5, 9, 10, 11, 12}"
      ]
     },
     "execution_count": 17,
     "metadata": {},
     "output_type": "execute_result"
    }
   ],
   "source": [
    "s1.union(s3)"
   ]
  },
  {
   "cell_type": "code",
   "execution_count": 18,
   "id": "63eaa4ea",
   "metadata": {},
   "outputs": [
    {
     "data": {
      "text/plain": [
       "{1, 2, 3, 4, 5}"
      ]
     },
     "execution_count": 18,
     "metadata": {},
     "output_type": "execute_result"
    }
   ],
   "source": [
    "s1"
   ]
  },
  {
   "cell_type": "code",
   "execution_count": 21,
   "id": "f86b3c80",
   "metadata": {},
   "outputs": [
    {
     "data": {
      "text/plain": [
       "'A dictionary in Python is a collection of key-value pairs.\\nIt is used to store and retrieve data using keys instead of indexes like in lists '"
      ]
     },
     "execution_count": 21,
     "metadata": {},
     "output_type": "execute_result"
    }
   ],
   "source": [
    "#Q5. What is a dictionary? Give an example. Also, state whether a dictionary is ordered or unordered.\n",
    "'''A dictionary in Python is a collection of key-value pairs.\n",
    "It is used to store and retrieve data using keys instead of indexes like in lists '''\n",
    "#dictionary is unorderd\n",
    "\n"
   ]
  },
  {
   "cell_type": "code",
   "execution_count": 22,
   "id": "d250ab6b",
   "metadata": {},
   "outputs": [],
   "source": [
    "my_dict = {'name': 'Imad', 'age': 21, 'city': 'Aligarh'}\n"
   ]
  },
  {
   "cell_type": "code",
   "execution_count": 24,
   "id": "057da49c",
   "metadata": {},
   "outputs": [],
   "source": [
    "'''Q6. Can we create a nested dictionary? If so, please give an example by creating a simple one-level\n",
    "nested dictionary.'''\n",
    "\n",
    "# yes we can create a nested dictionary\n",
    "\n",
    "d = {'key1':{'a':1,'b':2},'key2':{'a':3,'b':4}}"
   ]
  },
  {
   "cell_type": "code",
   "execution_count": 25,
   "id": "6814e859",
   "metadata": {},
   "outputs": [
    {
     "data": {
      "text/plain": [
       "1"
      ]
     },
     "execution_count": 25,
     "metadata": {},
     "output_type": "execute_result"
    }
   ],
   "source": [
    "d['key1']['a']"
   ]
  },
  {
   "cell_type": "code",
   "execution_count": null,
   "id": "53b5dbfe",
   "metadata": {},
   "outputs": [],
   "source": [
    "'''Q7. Using setdefault() method, create key named topics in the given dictionary and also add the value of\n",
    "the key as this list ['Python', 'Machine Learning’, 'Deep Learning']\n",
    "dict1 = {'language' : 'Python', 'course': 'Data Science Masters'}'''\n",
    "\n"
   ]
  },
  {
   "cell_type": "code",
   "execution_count": 26,
   "id": "6cc11a37",
   "metadata": {},
   "outputs": [
    {
     "data": {
      "text/plain": [
       "['Python', 'Machine Learning', 'Deep Learning']"
      ]
     },
     "execution_count": 26,
     "metadata": {},
     "output_type": "execute_result"
    }
   ],
   "source": [
    "dict1 = {'language': 'Python', 'course': 'Data Science Masters'}\n",
    "dict1.setdefault('topics', ['Python', 'Machine Learning', 'Deep Learning'])\n"
   ]
  },
  {
   "cell_type": "code",
   "execution_count": 27,
   "id": "796e0208",
   "metadata": {},
   "outputs": [
    {
     "data": {
      "text/plain": [
       "{'language': 'Python',\n",
       " 'course': 'Data Science Masters',\n",
       " 'topics': ['Python', 'Machine Learning', 'Deep Learning']}"
      ]
     },
     "execution_count": 27,
     "metadata": {},
     "output_type": "execute_result"
    }
   ],
   "source": [
    "dict1"
   ]
  },
  {
   "cell_type": "code",
   "execution_count": 28,
   "id": "6490c1c4",
   "metadata": {},
   "outputs": [
    {
     "name": "stdout",
     "output_type": "stream",
     "text": [
      "dict_keys(['Sport', 'Teams'])\n",
      "dict_values(['Cricket', ['India', 'Australia', 'England', 'South Africa', 'Sri Lanka', 'New Zealand']])\n",
      "dict_items([('Sport', 'Cricket'), ('Teams', ['India', 'Australia', 'England', 'South Africa', 'Sri Lanka', 'New Zealand'])])\n"
     ]
    }
   ],
   "source": [
    "\"\"\"Q8. What are the three view objects in dictionaries? Use the three in-built methods in python to display\n",
    "these three view objects for the given dictionary.\"\"\"\n",
    "\n",
    "'''Three view objects in dictionaries are \n",
    "keys() - returns a view object containing the keys of the dictionary\n",
    "values() - returns a view object containing the values of the dictionary\n",
    "items() - returns a view object containing the key-value pairs of the dictionary as tuples'''\n",
    "\n",
    "dict1 = {'Sport': 'Cricket' , 'Teams': ['India', 'Australia', 'England', 'South Africa', 'Sri Lanka', 'New Zealand']}\n",
    "\n",
    "\n",
    "print(dict1.keys())\n",
    "\n",
    "\n",
    "print(dict1.values())\n",
    "\n",
    "\n",
    "print(dict1.items())\n"
   ]
  },
  {
   "cell_type": "code",
   "execution_count": null,
   "id": "a4ebff31",
   "metadata": {},
   "outputs": [],
   "source": []
  },
  {
   "cell_type": "code",
   "execution_count": null,
   "id": "53b26175",
   "metadata": {},
   "outputs": [],
   "source": []
  }
 ],
 "metadata": {
  "kernelspec": {
   "display_name": "Python 3 (ipykernel)",
   "language": "python",
   "name": "python3"
  },
  "language_info": {
   "codemirror_mode": {
    "name": "ipython",
    "version": 3
   },
   "file_extension": ".py",
   "mimetype": "text/x-python",
   "name": "python",
   "nbconvert_exporter": "python",
   "pygments_lexer": "ipython3",
   "version": "3.9.13"
  }
 },
 "nbformat": 4,
 "nbformat_minor": 5
}
