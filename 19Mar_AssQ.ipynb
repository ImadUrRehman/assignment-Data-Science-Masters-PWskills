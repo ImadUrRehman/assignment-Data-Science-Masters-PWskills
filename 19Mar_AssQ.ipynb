{
 "cells": [
  {
   "cell_type": "markdown",
   "id": "415cfecb-d9db-483a-8217-423803bcde0f",
   "metadata": {},
   "source": [
    "Q1. Min-Max scaling is a data preprocessing technique used to rescale features to a fixed range, typically [0,1] or [-1,1]. It involves scaling the data points by subtracting the minimum value and dividing by the range (i.e., maximum value - minimum value). This technique is useful when we want to normalize the data and bring all features to a common scale. For example, if we have a dataset of house prices where the price ranges from $50,000 to $500,000, we can apply Min-Max scaling to rescale the prices to a range of [0,1]."
   ]
  },
  {
   "cell_type": "markdown",
   "id": "e192f0d9-6c7d-4a57-9739-bac2892c2218",
   "metadata": {},
   "source": [
    "Q2. The Unit Vector technique is a feature scaling technique that scales each feature to have a unit norm. This means that the Euclidean norm of each feature vector is equal to 1. The technique involves dividing each data point by its Euclidean norm. Unlike Min-Max scaling, the Unit Vector technique does not take into account the range of the feature values. Instead, it normalizes the feature vectors to be of equal importance. For example, if we have a dataset of documents where each document is represented by a bag-of-words vector, we can apply the Unit Vector technique to normalize each document vector."
   ]
  },
  {
   "cell_type": "markdown",
   "id": "e0fcbde4-0aa1-4b53-9af3-95a2e01536d7",
   "metadata": {},
   "source": [
    "Q3. PCA, or Principal Component Analysis, is a dimensionality reduction technique used to transform a high-dimensional dataset into a lower-dimensional space while retaining most of the variance in the data. It does this by finding a new set of orthogonal variables, called principal components, that capture the maximum amount of variance in the data. PCA is commonly used in data analysis and machine learning to reduce the dimensionality of a dataset, which can help to improve the performance of algorithms, reduce the computational cost, and simplify the interpretation of the data. For example, if we have a dataset of customer purchase behavior where each customer is represented by hundreds of features, we can use PCA to reduce the number of features and extract the most important patterns in the data."
   ]
  },
  {
   "cell_type": "markdown",
   "id": "8a454d23-b08b-4dc7-b218-a4435bdd46e5",
   "metadata": {},
   "source": [
    "Q4. PCA can be used for feature extraction by projecting the original features onto the principal components. Each principal component is a linear combination of the original features and represents a new, lower-dimensional representation of the data. The new features can be ranked by their importance in explaining the variance in the data, and the least important features can be discarded. This approach can help to reduce the complexity of the data, remove noise, and improve the performance of machine learning algorithms. For example, if we have a dataset of images, we can apply PCA to extract a set of features that capture the most important patterns in the images, such as edges, textures, and shapes."
   ]
  },
  {
   "cell_type": "markdown",
   "id": "7b638d2f-25ee-46df-8935-c67ef2ac5080",
   "metadata": {},
   "source": [
    "Q5. To use Min-Max scaling to preprocess the data for a recommendation system, we would first identify the relevant features, such as price, rating, and delivery time. Then, we would apply Min-Max scaling to each feature separately, rescaling the values to a common range of [0,1] or [-1,1]. This would ensure that each feature has the same scale and importance, which is important for many machine learning algorithms. For example, if we have a dataset of restaurant reviews with features such as rating, price, and cuisine, we can apply Min-Max scaling to rescale the features to a range of [0,1] before training a recommendation system."
   ]
  },
  {
   "cell_type": "markdown",
   "id": "62634f23-02f6-468d-9b28-aadba6dc2d47",
   "metadata": {},
   "source": [
    "Q6. To use PCA to reduce the dimensionality of the dataset for a stock price prediction model, we would first identify the relevant features, such as company financial data and market trends. Then, we would apply PCA to the features to extract a set of orthogonal principal components that capture the most important patterns in the data. We would choose the number of principal components to retain based on the amount of variance they explain in the data. For example, ifwe have a dataset of stock market data with hundreds of features, including company financial data such as revenue, earnings, and debt, as well as market data such as stock prices and trading volume, we can apply PCA to reduce the dimensionality of the dataset. By doing so, we can extract a set of principal components that capture the most important patterns in the data, such as trends and correlations between the features. We would choose the number of principal components to retain based on the amount of variance they explain in the data, while also balancing the need for simplicity and interpretability in the model."
   ]
  },
  {
   "cell_type": "markdown",
   "id": "d5ed53b5-8282-4caf-9bf9-a3719ec649ea",
   "metadata": {},
   "source": [
    "Q7. To perform Min-Max scaling on the given dataset [1, 5, 10, 15, 20] to transform the values to a range of -1 to 1, we would first subtract the minimum value (-1) from each value to shift the range to [0, 6, 11, 16, 21]. Then, we would divide each value by the range (21 - (-1) = 22) to obtain the final rescaled values: [-1, -0.7273, -0.3636, 0.0000, 0.3636]."
   ]
  },
  {
   "cell_type": "code",
   "execution_count": null,
   "id": "37d4e2e5-9b0c-4462-9ce5-cad5dd25e8dd",
   "metadata": {},
   "outputs": [],
   "source": []
  }
 ],
 "metadata": {
  "kernelspec": {
   "display_name": "Python 3 (ipykernel)",
   "language": "python",
   "name": "python3"
  },
  "language_info": {
   "codemirror_mode": {
    "name": "ipython",
    "version": 3
   },
   "file_extension": ".py",
   "mimetype": "text/x-python",
   "name": "python",
   "nbconvert_exporter": "python",
   "pygments_lexer": "ipython3",
   "version": "3.10.8"
  }
 },
 "nbformat": 4,
 "nbformat_minor": 5
}
