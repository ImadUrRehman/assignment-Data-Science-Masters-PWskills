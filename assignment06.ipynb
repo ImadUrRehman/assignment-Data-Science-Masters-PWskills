{
 "cells": [
  {
   "cell_type": "markdown",
   "id": "d47a697a",
   "metadata": {},
   "source": [
    "Q1. Explain Class and Object with respect to Object-Oriented Programming. Give a suitable example.\n",
    "\n",
    "A class is a blueprint or template for creating objects that encapsulate properties (attributes) and behaviors (methods). An object is an instance of a class that contains specific values for its properties and can perform the actions defined by its methods"
   ]
  },
  {
   "cell_type": "code",
   "execution_count": 1,
   "id": "c5cab043",
   "metadata": {},
   "outputs": [
    {
     "name": "stdout",
     "output_type": "stream",
     "text": [
      "Hello, my name is imad and I'm 22 years old.\n"
     ]
    }
   ],
   "source": [
    "class Person:\n",
    "    def __init__(self, name, age):\n",
    "        self.name = name\n",
    "        self.age = age\n",
    "    \n",
    "    def say_hello(self):\n",
    "        print(\"Hello, my name is\", self.name, \"and I'm\", self.age, \"years old.\")\n",
    "\n",
    "person1 = Person(\"imad\", 22)\n",
    "person1.say_hello()  \n"
   ]
  },
  {
   "cell_type": "markdown",
   "id": "b670f691",
   "metadata": {},
   "source": [
    "Q2. Name the four pillars of OOPs.\n",
    "\n",
    "The four pillars of OOP are encapsulation, abstraction, inheritance, and polymorphism. Encapsulation refers to enclosing data and behavior within an object, abstraction simplifies complex objects, inheritance allows classes to inherit properties and methods from a parent class, and polymorphism allows objects to take on multiple forms."
   ]
  },
  {
   "cell_type": "markdown",
   "id": "b56eaca5",
   "metadata": {},
   "source": [
    "Q3. Explain why the __init__() function is used. Give a suitable example.\n",
    "\n",
    "The __init__() method in Python is used to initialize the attributes of a class and set their initial values. It is called automatically when an instance of a class is created and is used to ensure that an object has all the necessary attributes and is in a valid state to be used."
   ]
  },
  {
   "cell_type": "code",
   "execution_count": 2,
   "id": "88a8df00",
   "metadata": {},
   "outputs": [
    {
     "name": "stdout",
     "output_type": "stream",
     "text": [
      "tom\n",
      "Labrador\n"
     ]
    }
   ],
   "source": [
    "class Dog:\n",
    "    def __init__(self, name, breed):\n",
    "        self.name = name\n",
    "        self.breed = breed\n",
    "\n",
    "dog1 = Dog(\"tom\", \"Labrador\")\n",
    "print(dog1.name)   \n",
    "print(dog1.breed)  \n"
   ]
  },
  {
   "cell_type": "markdown",
   "id": "1e12cccc",
   "metadata": {},
   "source": [
    "Q4. Why self is used in OOPs?\n",
    "In Object-Oriented Programming (OOP), \"self\" is a reference to the instance of a class that is currently being manipulated or accessed. It is a special keyword in OOP that allows objects to access their own attributes and methods."
   ]
  },
  {
   "cell_type": "markdown",
   "id": "8d2e0a9b",
   "metadata": {},
   "source": [
    "Q5. What is inheritance? Give an example for each type of inheritance.\n",
    "\n",
    "Inheritance is a fundamental concept in object-oriented programming where a new class is created by inheriting the properties and behavior of an existing class, called the base or parent class. The new class is known as the derived or child class.\n",
    "\n",
    "There are four types of inheritance in object-oriented programming:\n",
    "\n",
    "Single inheritance: In single inheritance, a derived class inherits the properties and behavior of a single base class. For example, a \"Square\" class can inherit from a \"Rectangle\" class which has properties for width and height.\n",
    "\n",
    "Multiple inheritance: In multiple inheritance, a derived class inherits the properties and behavior of multiple base classes. For example, a \"Student\" class can inherit from both \"Person\" and \"Employee\" classes which have properties for personal details and employment details respectively.\n",
    "\n",
    "Multilevel inheritance: In multilevel inheritance, a derived class inherits the properties and behavior of a base class, which in turn is derived from another base class. For example, a \"Grandson\" class can inherit from a \"Son\" class, which in turn inherits from a \"Father\" class.\n",
    "\n",
    "Hierarchical inheritance: In hierarchical inheritance, multiple derived classes inherit the properties and behavior of a single base class. For example, a \"Car\" class can be inherited by both \"Sedan\" and \"SUV\" classes which have additional properties and behavior specific to their respective types"
   ]
  }
 ],
 "metadata": {
  "kernelspec": {
   "display_name": "Python 3 (ipykernel)",
   "language": "python",
   "name": "python3"
  },
  "language_info": {
   "codemirror_mode": {
    "name": "ipython",
    "version": 3
   },
   "file_extension": ".py",
   "mimetype": "text/x-python",
   "name": "python",
   "nbconvert_exporter": "python",
   "pygments_lexer": "ipython3",
   "version": "3.9.13"
  }
 },
 "nbformat": 4,
 "nbformat_minor": 5
}
