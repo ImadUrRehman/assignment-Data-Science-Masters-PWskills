{
 "cells": [
  {
   "cell_type": "markdown",
   "id": "7ad98ece-9bdd-4e5d-9991-b3cc391895e9",
   "metadata": {},
   "source": [
    "### Q1.What is a database? Differentiate between SQL and NoSQL databases.\n",
    "\n",
    "A database is a collection of structured data that is organized and stored in a way that allows for efficient retrieval and manipulation of information.\n",
    "SQL databases are relational databases that use a tabular schema to store data. The data is organized into tables, with each table representing a different type of object or data entity. SQL databases use SQL as their query language to interact with the data. SQL is a standardized language that is used to create, read, update, and delete data in the database. SQL databases are generally considered to be good for applications that require complex queries or transactions, as well as for applications that require strong data consistency.\n",
    "\n",
    "NoSQL databases, on the other hand, do not use a tabular schema. Instead, they use a variety of different data models, such as key-value, document-based, or graph-based. NoSQL databases are designed to be flexible and scalable, making them ideal for applications that require large amounts of unstructured or semi-structured data. NoSQL databases use a variety of different query languages, depending on the specific data model used. They are generally considered to be better for applications that require high scalability and performance, but may sacrifice some data consistency or durability in exchange.\n",
    "\n",
    "\n"
   ]
  },
  {
   "cell_type": "markdown",
   "id": "6e97d5ba-b865-4e7c-9387-2f2ffa33a27e",
   "metadata": {},
   "source": [
    "### Q2.What is DDL? Explain why CREATE, DROP, ALTER, and TRUNCATE are used with an example.\n",
    "DDL (Data Definition Language) is a subset of SQL (Structured Query Language) that is used to define and manage the structure of a database.\n",
    "CREATE: The CREATE statement is used to create new database objects such as tables, views, indexes, and stored procedures.\n",
    "DROP: The DROP statement is used to delete database objects such as tables, views, indexes, and stored procedures.\n",
    "ALTER: The ALTER statement is used to modify the structure of existing database objects.\n",
    "TRUNCATE: The TRUNCATE statement is used to remove all data from a table. It is similar to the DELETE statement, but is faster and does not generate a log of the deleted data.\n"
   ]
  },
  {
   "cell_type": "markdown",
   "id": "d6341958-fe52-4f9f-8932-02551fabb486",
   "metadata": {},
   "source": [
    "### Q3. What is DML? Explain INSERT, UPDATE, and DELETE with an example.\n",
    "\n",
    "DML (Data Manipulation Language) is a subset of SQL (Structured Query Language) that is used to manage data within a database\n",
    "INSERT: The INSERT statement is used to insert new rows of data into a table. \n",
    "ex - INSERT INTO users (id, name, email) VALUES (1, 'John Smith', 'john@example.com');\n",
    "\n",
    "UPDATE: The UPDATE statement is used to modify existing rows of data in a table.\n",
    "ex - UPDATE users SET email = 'john.smith@example.com' WHERE id = 1;\n",
    "\n",
    "DELETE: The DELETE statement is used to remove rows of data from a table.\n",
    "ex - DELETE FROM users WHERE id=1;\n",
    "\n",
    "\n"
   ]
  },
  {
   "cell_type": "markdown",
   "id": "1eeae775-1b65-4ad9-9e10-e63f1fb16766",
   "metadata": {},
   "source": [
    "### Q4. What is DQL? Explain SELECT with an example.\n",
    "DQL (Data Query Language) is a subset of SQL (Structured Query Language) that is used to retrieve data from a database.\n",
    "\n",
    "The most commonly used DQL statement is the SELECT statement, which is used to retrieve data from one or more database tables based on specified criteria.\n",
    "for ex- SELECT * FROM users WHERE age > 25;\n",
    "\n"
   ]
  },
  {
   "cell_type": "markdown",
   "id": "3eebf84a-206c-4dcc-94fb-595c180fc15f",
   "metadata": {},
   "source": [
    "### Q5. Explain Primary Key and Foreign Key.\n",
    "\n",
    "Primary Key and Foreign Key are two important concepts in relational database design that help to establish relationships between tables.\n",
    "A Primary Key is a column or combination of columns in a table that uniquely identifies each row of data in that table. The primary key constraint ensures that each value in the primary key column(s) is unique and not null. A primary key is used to ensure data integrity and to help establish relationships between tables.\n",
    "\n",
    "A Foreign Key is a column or combination of columns in a table that refers to the primary key of another table. It establishes a link between two tables, allowing data to be retrieved from multiple tables based on a common column or set of columns. The foreign key constraint ensures that the values in the foreign key column(s) match the values in the primary key column(s) of the referenced table or are null."
   ]
  },
  {
   "cell_type": "code",
   "execution_count": null,
   "id": "f11d0b63-7af0-46b6-bf6f-0df9f9dc726c",
   "metadata": {},
   "outputs": [],
   "source": [
    "#Q6. Write a python code to connect MySQL to python. Explain the cursor() and execute() method.\n",
    "\n",
    "import mysql.connector\n",
    "\n",
    "\n",
    "mydb = mysql.connector.connect(\n",
    "  host=\"localhost\",\n",
    "  user=\"yourusername\",\n",
    "  password=\"yourpassword\",\n",
    "  database=\"mydatabase\"\n",
    ")\n",
    "\n",
    "\n",
    "mycursor = mydb.cursor()\n",
    "\n",
    "\n",
    "mycursor.execute(\"SELECT * FROM customers\")\n",
    "\n",
    "\n",
    "result = mycursor.fetchall()\n",
    "\n",
    "for row in result:\n",
    "  print(row)\n"
   ]
  },
  {
   "cell_type": "markdown",
   "id": "25b40d3a-a814-4272-bdf7-559885655b4a",
   "metadata": {},
   "source": [
    "### Q7. Give the order of execution of SQL clauses in an SQL query.\n",
    "\n",
    "FROM clause: The FROM clause specifies the table or tables from which data is retrieved.\n",
    "JOIN clause: If the query involves joining multiple tables, the JOIN clauses are executed next to combine the rows from the different tables based on the join condition.\n",
    "WHERE clause: The WHERE clause filters the rows based on a condition, allowing only those rows that satisfy the condition to be selected.\n",
    "GROUP BY clause: The GROUP BY clause groups the rows based on one or more columns, allowing aggregate functions like SUM, AVG, and COUNT to be applied to each group.\n",
    "HAVING clause: The HAVING clause filters the groups based on a condition, allowing only those groups that satisfy the condition to be selected.\n",
    "SELECT clause: The SELECT clause specifies the columns to be retrieved from the result set.\n",
    "DISTINCT clause: The DISTINCT clause removes duplicates from the result set.\n",
    "ORDER BY clause: The ORDER BY clause sorts the result set based on one or more columns.\n",
    "LIMIT clause: The LIMIT clause limits the number of rows returned by the query."
   ]
  },
  {
   "cell_type": "code",
   "execution_count": null,
   "id": "948b2dd1-0981-4ba5-96a0-ede112257800",
   "metadata": {},
   "outputs": [],
   "source": []
  }
 ],
 "metadata": {
  "kernelspec": {
   "display_name": "Python 3 (ipykernel)",
   "language": "python",
   "name": "python3"
  },
  "language_info": {
   "codemirror_mode": {
    "name": "ipython",
    "version": 3
   },
   "file_extension": ".py",
   "mimetype": "text/x-python",
   "name": "python",
   "nbconvert_exporter": "python",
   "pygments_lexer": "ipython3",
   "version": "3.10.8"
  }
 },
 "nbformat": 4,
 "nbformat_minor": 5
}
