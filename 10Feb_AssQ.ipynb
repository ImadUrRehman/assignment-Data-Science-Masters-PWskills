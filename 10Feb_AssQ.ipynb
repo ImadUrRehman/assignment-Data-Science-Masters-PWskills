{
 "cells": [
  {
   "cell_type": "code",
   "execution_count": null,
   "id": "59e9b21c",
   "metadata": {},
   "outputs": [],
   "source": [
    "## Q1. Which function is used to open a file? What are the different modes of opening a file? Explain each mode of file opening.\n",
    "\n",
    "'''\n",
    "The open() function is used to open a file in Python\n",
    " and the mode in which the file is opened is specified as a string.\n",
    "There are different modes of file opening, including read mode ('r'), write mode ('w'), append mode ('a'), binary mode ('b'),\n",
    "text mode ('t'), and exclusive creation mode ('x').'''"
   ]
  },
  {
   "cell_type": "code",
   "execution_count": 1,
   "id": "ee0398c6",
   "metadata": {},
   "outputs": [
    {
     "data": {
      "text/plain": [
       "\"The close() function is used to close an open file in Python. \\nIt's important to close a file after you have finished reading from or writing to it because \\nit prevents data loss or corruption, frees up system resources, avoids unexpected behavior, \\nand maintains good programming practice. \\nIt's recommended to always close files properly to avoid issues in your code.\""
      ]
     },
     "execution_count": 1,
     "metadata": {},
     "output_type": "execute_result"
    }
   ],
   "source": [
    "## Q2. Why close() function is used? Why is it important to close a file?\n",
    "\n",
    "'''The close() function is used to close an open file in Python. \n",
    "It's important to close a file after you have finished reading from or writing to it because \n",
    "it prevents data loss or corruption, frees up system resources, avoids unexpected behavior, \n",
    "and maintains good programming practice. \n",
    "It's recommended to always close files properly to avoid issues in your code.'''"
   ]
  },
  {
   "cell_type": "code",
   "execution_count": 3,
   "id": "eb462ced",
   "metadata": {},
   "outputs": [],
   "source": [
    "##Q3. Write a python program to create a text file. Write ‘I want to become a Data Scientist’ in that file. Then\n",
    "## close the file. Open this file and read the content of the file.\n",
    "\n",
    "with open(\"test.txt\",\"w\") as f:\n",
    "    f.write(\"I want to become a Data Scientist\")\n",
    "f.close()"
   ]
  },
  {
   "cell_type": "code",
   "execution_count": 4,
   "id": "e4154d08",
   "metadata": {},
   "outputs": [
    {
     "name": "stdout",
     "output_type": "stream",
     "text": [
      "I want to become a Data Scientist\n"
     ]
    }
   ],
   "source": [
    "with open(\"test.txt\",\"r\") as f:\n",
    "    print(f.read())"
   ]
  },
  {
   "cell_type": "code",
   "execution_count": null,
   "id": "3dabc4b1",
   "metadata": {},
   "outputs": [],
   "source": [
    "##Q4. Explain the following with python code: read(), readline() and readlines().\n",
    "\n",
    "\n",
    "# #   The read() function is used to read the entire contents of a file at once\n",
    "      \n",
    "file_object = open(\"file.txt\", \"r\")\n",
    "data = file_object.read()\n",
    "file_object.close()\n",
    "print(data)\n",
    "\n",
    "## readline() function: The readline() function is used to read a single line of text from a file.\n",
    "#   When you call this function, it reads the next line of text from the file and returns it as a string\n",
    "\n",
    "##  readlines() function: The readlines() function is used to read all of the lines of text from a file and \n",
    "#  return them as a list of strings.\n",
    "#  Each string in the list represents a single line of text from the file"
   ]
  },
  {
   "cell_type": "code",
   "execution_count": null,
   "id": "a92c4f3b",
   "metadata": {},
   "outputs": [],
   "source": [
    "## Q5. Explain why with statement is used with open(). What is the advantage of using with statement and open() together?"
   ]
  },
  {
   "cell_type": "code",
   "execution_count": null,
   "id": "c8109b8d",
   "metadata": {},
   "outputs": [],
   "source": [
    "'''The with statement in Python is used to create a context in which a set of operations can be performed, and once those operations are done, any resources that were acquired are automatically released. This is particularly useful when dealing with resources such as files, which need to be explicitly closed after use to prevent data corruption or loss.\n",
    "\n",
    "The open() function in Python is used to open a file and create a file object. It takes two arguments:\n",
    "the file path and the mode in which the file should be opened (read, write, append, etc.). \n",
    "When open() is used outside of a with statement, the file object needs to be explicitly closed using the close() method.\n",
    "\n",
    "When used together, the with statement and open() function provide a convenient way to work with files in Python. \n",
    "The advantage of using the with statement with open() is that it automatically closes the file object after the block of code\n",
    "within the with statement has executed, regardless of whether an exception occurred or not. This eliminates the need to remember\n",
    "to close the file object manually, making code more concise and less error-prone.'''"
   ]
  },
  {
   "cell_type": "code",
   "execution_count": null,
   "id": "86f656a2",
   "metadata": {},
   "outputs": [],
   "source": [
    "## Q6. Explain the write() and writelines() functions. Give a suitable example.\n",
    "\n",
    "'''The write() function is used to write a string to a file. It takes a string as its argument and writes it to the file.\n",
    "If the file does not exist, it is created.\n",
    "If it exists, the existing content of the file is overwritten.'''\n",
    "\n",
    "with open('file.txt', 'w') as f:\n",
    "    f.write('Hello, world!\\n')\n",
    "    f.write('How are you?')\n",
    "    \n",
    "\n",
    "'''The writelines() function, on the other hand, is used to write multiple strings to a file.\n",
    "It takes a list of strings as its argument and writes them to the file. Like write(), \n",
    "if the file does not exist, it is created. If it exists, the existing content of the file is overwritten.'''\n",
    "\n",
    "lines = ['Hello, world!\\n', 'How are you?\\n', 'I am fine, thanks.']\n",
    "\n",
    "with open('file.txt', 'w') as f:\n",
    "    f.writelines(lines)\n",
    "\n"
   ]
  }
 ],
 "metadata": {
  "kernelspec": {
   "display_name": "Python 3 (ipykernel)",
   "language": "python",
   "name": "python3"
  },
  "language_info": {
   "codemirror_mode": {
    "name": "ipython",
    "version": 3
   },
   "file_extension": ".py",
   "mimetype": "text/x-python",
   "name": "python",
   "nbconvert_exporter": "python",
   "pygments_lexer": "ipython3",
   "version": "3.9.13"
  }
 },
 "nbformat": 4,
 "nbformat_minor": 5
}
