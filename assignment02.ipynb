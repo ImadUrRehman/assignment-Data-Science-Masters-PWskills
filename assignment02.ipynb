{
 "cells": [
  {
   "cell_type": "code",
   "execution_count": 5,
   "id": "b17a6f44",
   "metadata": {},
   "outputs": [
    {
     "name": "stdout",
     "output_type": "stream",
     "text": [
      "Enter your Marks: 101\n",
      "invalid response\n"
     ]
    }
   ],
   "source": [
    "##1 Write a program to accept percentage from the user and display the grade according to the following criteria\n",
    "marks=int(input(\"Enter your Marks: \"))\n",
    "if marks>90 and marks<=100:\n",
    "    print(\"your grade is:\",'A')\n",
    "elif marks>80 and marks<=90:\n",
    "    print(\"your grade is\",'B')\n",
    "elif marks>=60 and marks<=80:\n",
    "    print(\"your grade is\",'C')\n",
    "elif marks>=0 and marks<60:\n",
    "    print(\"your grade is\",'D')\n",
    "else:\n",
    "    print(\"invalid response\")"
   ]
  },
  {
   "cell_type": "code",
   "execution_count": 7,
   "id": "44cd00ce",
   "metadata": {},
   "outputs": [
    {
     "name": "stdout",
     "output_type": "stream",
     "text": [
      "enter cost price of the bike: 110000\n",
      "Road tax is : 16500.0\n"
     ]
    }
   ],
   "source": [
    "##2 Write a program to accept the cost price of a bike and display the road tax to be paid according to the following criteria\n",
    "cp= int(input(\"enter cost price of the bike: \"))\n",
    "if cp>100000:\n",
    "    tax=0.15*cp\n",
    "elif cp<=100000 and cp>50000:\n",
    "    tax=0.10*cp\n",
    "elif cp<=50000:\n",
    "    tax=0.05*cp\n",
    "print('Road tax is :',tax)\n"
   ]
  },
  {
   "cell_type": "code",
   "execution_count": 3,
   "id": "849e67e5",
   "metadata": {},
   "outputs": [
    {
     "name": "stdout",
     "output_type": "stream",
     "text": [
      "Enter the city: JAipur\n",
      "Monument is Jal Mahal\n"
     ]
    }
   ],
   "source": [
    "##3. Accept any city from the user and display monuments of that city.\n",
    "city = input(\"Enter the city: \")\n",
    "if city.lower() == \"delhi\":\n",
    "    print(\"Monument is Red Fort\")\n",
    "elif city.lower() == \"agra\":\n",
    "    print(\"Monument is Taj Mahal\")\n",
    "elif city.lower() == \"jaipur\":\n",
    "    print(\"Monument is Jal Mahal\")"
   ]
  },
  {
   "cell_type": "code",
   "execution_count": 6,
   "id": "1d8b4da2",
   "metadata": {},
   "outputs": [
    {
     "name": "stdout",
     "output_type": "stream",
     "text": [
      "enter a number60\n",
      "2\n"
     ]
    }
   ],
   "source": [
    "##4. Check how many times a given number can be divided by 3 before it is less than or equal to 10.\n",
    "num = int(input(\"enter a number\"))\n",
    "count=0\n",
    "while num > 10:\n",
    "    num = num/3\n",
    "    count = count+1\n",
    "print(count)"
   ]
  },
  {
   "cell_type": "markdown",
   "id": "99235f6c",
   "metadata": {},
   "source": [
    "#### 5. Why and When to Use while Loop in Python give a detailed description with example\n",
    "\n",
    "A \"While\" Loop is used to repeat a specific block of code an unknown number of times,until a condition is met. \n",
    "For example, if we want to ask a user for a number between 1 and 10,we don't know how many times the user may enter a larger number, so we keep asking \"while the number is not between 1 and 10\".\n",
    "Like all loops, \"while loops\" execute blocks of code over and over again.\n",
    "The advantage to a while loop is that it will go (repeat) as often as necessary to accomplish its goal.\n",
    "\n"
   ]
  },
  {
   "cell_type": "code",
   "execution_count": 32,
   "id": "977da38e",
   "metadata": {},
   "outputs": [],
   "source": [
    "num=0\n",
    "while num<10 and num>1:\n",
    "    num = int(input(\"enter the nummber\"))\n",
    "    "
   ]
  },
  {
   "cell_type": "code",
   "execution_count": 29,
   "id": "ae70fda7",
   "metadata": {},
   "outputs": [
    {
     "name": "stdout",
     "output_type": "stream",
     "text": [
      "       * \r\n",
      "      * * \r\n",
      "     * * * \r\n",
      "    * * * * \r\n",
      "   * * * * * \r\n",
      "  * * * * * * \r\n",
      " * * * * * * * \r\n",
      "* \r\n",
      "* * \r\n",
      "* * * \r\n",
      "* * * * \r\n",
      "* * * * * \r\n",
      "* * * * * * \r\n",
      "* * * * * * * \r\n",
      "1 1 1 1 1 1 1 \r\n",
      "2 2 2 2 2 2 \r\n",
      "3 3 3 3 3 \r\n",
      "4 4 4 4 \r\n",
      "5 5 5 \r\n",
      "6 6 \r\n",
      "7 \r\n"
     ]
    }
   ],
   "source": [
    "## 6. Use nested loop to print 3 different pattern.\n",
    "n=7\n",
    "for i in range(0,n):\n",
    "    print(\" \"*(7-i),end='')\n",
    "    for j in range(0,i+1):\n",
    "        print('* ',end='')\n",
    "    print('\\r')\n",
    "    \n",
    "n=7\n",
    "for i in range(0,n):\n",
    "    for j in range(0,i+1):\n",
    "        print('* ',end='')\n",
    "    print('\\r')\n",
    "    \n",
    "rows = 7\n",
    "b = 0\n",
    "\n",
    "for i in range(rows, 0, -1):\n",
    "    b += 1\n",
    "    for j in range(1, i + 1):\n",
    "        print(b, end=' ')\n",
    "    print('\\r')"
   ]
  },
  {
   "cell_type": "code",
   "execution_count": 34,
   "id": "d1256307",
   "metadata": {},
   "outputs": [
    {
     "name": "stdout",
     "output_type": "stream",
     "text": [
      "10\n",
      "9\n",
      "8\n",
      "7\n",
      "6\n",
      "5\n",
      "4\n",
      "3\n",
      "2\n",
      "1\n"
     ]
    }
   ],
   "source": [
    "##7. Reverse a while loop to display numbers from 10 to 1.\n",
    "\n",
    "num=10\n",
    "while num > 0:\n",
    "    print(num)\n",
    "    num = num - 1"
   ]
  },
  {
   "cell_type": "code",
   "execution_count": 35,
   "id": "0873ec5d",
   "metadata": {},
   "outputs": [
    {
     "name": "stdout",
     "output_type": "stream",
     "text": [
      "10\n",
      "9\n",
      "8\n",
      "7\n",
      "6\n",
      "5\n",
      "4\n",
      "3\n",
      "2\n",
      "1\n"
     ]
    }
   ],
   "source": [
    "##8. Reverse a while loop to display numbers from 10 to 1.\n",
    "\n",
    "num=10\n",
    "while num > 0:\n",
    "    print(num)\n",
    "    num = num - 1"
   ]
  },
  {
   "cell_type": "code",
   "execution_count": null,
   "id": "ca66f46e",
   "metadata": {},
   "outputs": [],
   "source": []
  }
 ],
 "metadata": {
  "kernelspec": {
   "display_name": "Python 3 (ipykernel)",
   "language": "python",
   "name": "python3"
  },
  "language_info": {
   "codemirror_mode": {
    "name": "ipython",
    "version": 3
   },
   "file_extension": ".py",
   "mimetype": "text/x-python",
   "name": "python",
   "nbconvert_exporter": "python",
   "pygments_lexer": "ipython3",
   "version": "3.9.13"
  }
 },
 "nbformat": 4,
 "nbformat_minor": 5
}
