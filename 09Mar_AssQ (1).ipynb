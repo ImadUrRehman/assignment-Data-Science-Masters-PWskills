{
 "cells": [
  {
   "cell_type": "markdown",
   "id": "79719c14-02dc-4da9-8dfd-4bd2f844204b",
   "metadata": {},
   "source": [
    "Q1: The Probability Mass Function (PMF) and Probability Density Function (PDF) are both mathematical functions used to describe the probability distribution of a random variable. The PMF is used for discrete random variables, while the PDF is used for continuous random variables. The PMF gives the probability that a discrete random variable takes on a certain value, while the PDF gives the probability density at a certain point in the continuous range of values. For example, the PMF of a fair six-sided die would give a probability of 1/6 for each possible outcome, while the PDF of a standard normal distribution would give the density of probabilities for different values of the random variable."
   ]
  },
  {
   "cell_type": "markdown",
   "id": "3ccbb44e-a984-46cd-a472-0a0851fb6b71",
   "metadata": {},
   "source": [
    "Q2: The Cumulative Density Function (CDF) is a function that gives the probability that a random variable takes on a value less than or equal to a certain value. It is defined for both discrete and continuous random variables. For example, the CDF of a fair six-sided die would be a step function that jumps up by 1/6 at each possible outcome, while the CDF of a standard normal distribution would be a smooth curve that increases gradually from 0 to 1 as the values of the random variable increase. The CDF is used to compute probabilities and to generate random values from a given distribution."
   ]
  },
  {
   "cell_type": "markdown",
   "id": "b8cc5a83-acf9-4f74-86e2-a07de2738c74",
   "metadata": {},
   "source": [
    "Q3: The normal distribution is a probability distribution that is used to model many real-world phenomena, such as the heights of people, the weights of objects, and the error in measurements. The parameters of the normal distribution are the mean and the standard deviation, which determine the location and the spread of the distribution, respectively. A normal distribution is characterized by its bell-shaped curve, which is symmetric around the mean and has a maximum at the mean."
   ]
  },
  {
   "cell_type": "markdown",
   "id": "f920c7d4-0836-46af-a773-972d570b9613",
   "metadata": {},
   "source": [
    "Q4: The Normal Distribution is important because it is a very common and versatile distribution that occurs in many natural phenomena. It has many useful properties, such as its symmetry, its well-known mean and standard deviation, and its ability to approximate other distributions. Real-life examples of Normal Distribution include the heights of people, the weights of objects, the scores on standardized tests, and the time taken to complete a task. In each of these examples, the Normal Distribution is used to model the natural variability of the phenomenon."
   ]
  },
  {
   "cell_type": "markdown",
   "id": "948c7d2a-a2de-4a21-81ac-7fdc87ce9753",
   "metadata": {},
   "source": [
    "Q5: The Bernoulli Distribution is a probability distribution that describes the outcome of a single experiment that has only two possible outcomes, such as success or failure, or heads or tails. An example of the Bernoulli Distribution is the probability of flipping a coin and getting heads, where the outcome is either 1 for heads or 0 for tails. The Binomial Distribution is a probability distribution that describes the number of successes in a fixed number of independent Bernoulli trials. The main difference between the Bernoulli Distribution and the Binomial Distribution is that the Bernoulli Distribution describes a single trial, while the Binomial Distribution describes the sum of multiple independent trials."
   ]
  },
  {
   "cell_type": "markdown",
   "id": "558e8c97-bff7-4a26-be33-5c27eb50da6f",
   "metadata": {},
   "source": [
    "Q6: Using the formula for a normal distribution with a mean of 50 and a standard deviation of 10, we can calculate the probability that a randomly selected observation will be greater than 60 as follows:\n",
    "\n",
    "z = (x - μ) / σ\n",
    "z = (60 - 50) / 10\n",
    "z = 1\n",
    "\n",
    "Using a standard normal distribution table or calculator, we can find that the probability of a z-score of 1 or greater is approximately 0.1587. Therefore, the probability that a randomly selected observation will be greater than 60 is approximately 0.1587."
   ]
  },
  {
   "cell_type": "markdown",
   "id": "67907b66-35b4-48a0-80c5-ac2ea1e89878",
   "metadata": {},
   "source": [
    "Q7: The Uniform Distribution is a probability distribution in which all values within a given interval are equally likely to occur. An example of the Uniform Distribution is the probability of rolling a fair six-sided die and getting any value from 1 to 6,with an equal probability of 1/6 for each outcome. Another example is the probability of randomly selecting a number between 0 and 1, where any value within this interval has an equal probability of occurring. The Uniform Distribution is useful in modeling situations where all possible outcomes are equally likely, such as in some types of random sampling or when assigning random values to variables in simulations."
   ]
  },
  {
   "cell_type": "markdown",
   "id": "3cac1866-507c-4b8f-837a-0d31aa7c00d6",
   "metadata": {},
   "source": [
    "Q8: The z-score is a standardized score that represents the number of standard deviations a given value is from the mean of a distribution. It is calculated by subtracting the mean from the value of interest and dividing by the standard deviation. The z-score is important because it allows us to compare values from different distributions and determine how unusual a given value is within its own distribution. It is also used to compute probabilities and to make statistical inferences."
   ]
  },
  {
   "cell_type": "markdown",
   "id": "8c883227-52bf-477e-bf19-6313b96750cb",
   "metadata": {},
   "source": [
    "Q9: The Central Limit Theorem (CLT) is a fundamental result in probability theory that states that the sampling distribution of the mean of a large number of independent and identically distributed random variables will be approximately normal, regardless of the underlying distribution of the variables. This theorem is significant because it allows us to make inferences about a population based on a sample, and it provides a framework for many statistical methods. The CLT is widely used in fields such as economics, engineering, and social sciences."
   ]
  },
  {
   "cell_type": "markdown",
   "id": "a9c40952-5174-45ba-a5d1-02b6570ddd3b",
   "metadata": {},
   "source": [
    "Q10: The assumptions of the Central Limit Theorem are:\n",
    "\n",
    "The sample size is large enough (usually at least 30).\n",
    "The sample is drawn from a population with a finite mean and standard deviation.\n",
    "The sample is drawn randomly and independently from the population.\n",
    "The observations in the sample are not dependent on each other (i.e., the sample is not autocorrelated)."
   ]
  },
  {
   "cell_type": "code",
   "execution_count": null,
   "id": "810769ce-09f3-4798-b60f-9358b282c947",
   "metadata": {},
   "outputs": [],
   "source": []
  }
 ],
 "metadata": {
  "kernelspec": {
   "display_name": "Python 3 (ipykernel)",
   "language": "python",
   "name": "python3"
  },
  "language_info": {
   "codemirror_mode": {
    "name": "ipython",
    "version": 3
   },
   "file_extension": ".py",
   "mimetype": "text/x-python",
   "name": "python",
   "nbconvert_exporter": "python",
   "pygments_lexer": "ipython3",
   "version": "3.10.8"
  }
 },
 "nbformat": 4,
 "nbformat_minor": 5
}
