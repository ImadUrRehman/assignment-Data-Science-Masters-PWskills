{
 "cells": [
  {
   "cell_type": "markdown",
   "id": "3f864a7b-2259-4fbb-a08a-e8d2c3c2aa3f",
   "metadata": {},
   "source": [
    "Q1. What is the Probability density function?\n",
    "\n",
    "A Probability density function (PDF) is a mathematical function that describes the likelihood of a continuous random variable taking a certain value. The integral of the PDF over a range of values gives the probability of the variable taking a value within that range.\n"
   ]
  },
  {
   "cell_type": "markdown",
   "id": "a9d978d2-c80b-4a82-bd72-e9352b8d5c76",
   "metadata": {},
   "source": [
    "Q2. What are the types of Probability distribution?\n",
    "\n",
    "There are several types of probability distributions, including:\n",
    "\n",
    "* Bernoulli distribution\n",
    "* Binomial distribution\n",
    "* Poisson distribution\n",
    "* Normal distribution\n",
    "* Uniform distribution\n",
    "* Log-normal distribution"
   ]
  },
  {
   "cell_type": "markdown",
   "id": "cb00b3a2-1b07-411d-a643-1a1c70d35638",
   "metadata": {},
   "source": [
    "Q4. What are the properties of Binomial distribution? Give two examples of events where binomial distribution can be applied.\n",
    "\n",
    "The binomial distribution has the following properties:\n",
    "\n",
    "The outcomes of each trial are independent.\n",
    "There are only two possible outcomes for each trial, usually labeled \"success\" and \"failure\".\n",
    "The probability of success is constant for all trials.\n",
    "The number of trials is fixed in advance.\n",
    "Examples of events where the binomial distribution can be applied include:\n",
    "\n",
    "Flipping a coin a fixed number of times and counting the number of heads.\n",
    "Surveying a fixed number of people and counting the number who prefer a certain candidate."
   ]
  },
  {
   "cell_type": "markdown",
   "id": "dba25d7b-6b14-4fa7-8ee8-3acc791ee921",
   "metadata": {},
   "source": [
    "Q5. Generate a random sample of size 1000 from a binomial distribution with probability of success 0.4 and plot a histogram of the results using matplotlib."
   ]
  },
  {
   "cell_type": "code",
   "execution_count": 4,
   "id": "647231a6-5480-43a7-9b3c-ad7e60a7dcf5",
   "metadata": {},
   "outputs": [
    {
     "data": {
      "image/png": "[encoded data removed]",
      "text/plain": [
       "<Figure size 640x480 with 1 Axes>"
      ]
     },
     "metadata": {},
     "output_type": "display_data"
    }
   ],
   "source": [
    "import numpy as np\n",
    "import matplotlib.pyplot as plt\n",
    "\n",
    "n = 1000\n",
    "p = 0.4\n",
    "\n",
    "\n",
    "sample = np.random.binomial(n, p, size=n)\n",
    "\n",
    "plt.hist(sample)\n",
    "plt.xlabel('Number of Successes')\n",
    "plt.ylabel('Probability')\n",
    "plt.title('Binomial Distribution')\n",
    "plt.show()\n"
   ]
  },
  {
   "cell_type": "markdown",
   "id": "353f74b9-7d64-4598-bf1a-5a5860dfed7b",
   "metadata": {},
   "source": [
    "Q6. Write a Python function to calculate the cumulative distribution function of a Poisson distribution with given mean at a given point."
   ]
  },
  {
   "cell_type": "code",
   "execution_count": 7,
   "id": "581b4303-b7fe-4dbb-b8b9-40007a35b289",
   "metadata": {},
   "outputs": [],
   "source": [
    "import numpy as np\n",
    "\n",
    "def poisson_cdf(mu, k):\n",
    "    cdf = np.sum(np.exp(-mu) * mu**np.arange(k+1) / np.arange(1, k+2))\n",
    "    return cdf\n"
   ]
  },
  {
   "cell_type": "markdown",
   "id": "56d18585-a13c-4754-bb61-dc7f7533db29",
   "metadata": {},
   "source": [
    "Q7. How Binomial distribution different from Poisson distribution?\n",
    "\n",
    "The main difference between the binomial distribution and the Poisson distribution is that the binomial distribution models the number of successes in a fixed number of trials, while the Poisson distribution models the number of events in a fixed time or space interval."
   ]
  },
  {
   "cell_type": "markdown",
   "id": "f64dcb20-1c42-49f6-adac-bd95fd7ac66d",
   "metadata": {},
   "source": [
    "Q8. Generate a random sample of size 1000 from a Poisson distribution with mean 5 and calculate the\n",
    "sample mean and variance."
   ]
  },
  {
   "cell_type": "code",
   "execution_count": 8,
   "id": "76fbc328-7115-45da-85ed-c1fda522cb4d",
   "metadata": {},
   "outputs": [
    {
     "name": "stdout",
     "output_type": "stream",
     "text": [
      "Sample mean: 4.919\n",
      "Sample variance: 5.030439\n"
     ]
    }
   ],
   "source": [
    "import numpy as np\n",
    "\n",
    "\n",
    "np.random.seed(123)\n",
    "\n",
    "\n",
    "sample = np.random.poisson(lam=5, size=1000)\n",
    "\n",
    "\n",
    "sample_mean = np.mean(sample)\n",
    "sample_var = np.var(sample)\n",
    "\n",
    "print(\"Sample mean:\", sample_mean)\n",
    "print(\"Sample variance:\", sample_var)\n"
   ]
  },
  {
   "cell_type": "code",
   "execution_count": null,
   "id": "28881f80-55b7-4601-8e10-f1b60be7c3c7",
   "metadata": {},
   "outputs": [],
   "source": []
  }
 ],
 "metadata": {
  "kernelspec": {
   "display_name": "Python 3 (ipykernel)",
   "language": "python",
   "name": "python3"
  },
  "language_info": {
   "codemirror_mode": {
    "name": "ipython",
    "version": 3
   },
   "file_extension": ".py",
   "mimetype": "text/x-python",
   "name": "python",
   "nbconvert_exporter": "python",
   "pygments_lexer": "ipython3",
   "version": "3.10.8"
  }
 },
 "nbformat": 4,
 "nbformat_minor": 5
}
