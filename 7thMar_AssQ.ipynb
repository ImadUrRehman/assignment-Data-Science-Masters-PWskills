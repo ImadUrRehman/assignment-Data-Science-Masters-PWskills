{
 "cells": [
  {
   "cell_type": "markdown",
   "id": "7b9214c0-6fb1-4518-b316-b78ed1640fdd",
   "metadata": {},
   "source": [
    "\n",
    "Q1. The three measures of central tendency are mean, median, and mode.\n",
    "\n",
    "\n",
    "Q2. The mean is the arithmetic average of a dataset, calculated by adding all values and dividing by the number of values. The median is the middle value when a dataset is arranged in order, or the average of the two middle values for an even number of values. The mode is the value that appears most frequently in a dataset. They are used to measure the central tendency of a dataset by providing a representative value that summarizes the entire dataset.\n",
    "\n",
    "\n",
    "Q3. Mean = 177.6, Median = 177.5, Mode = 178.\n",
    "\n",
    "\n",
    "Q4. Standard deviation = 2.301.\n",
    "\n",
    "\n",
    "Q5. Measures of dispersion describe the spread or variability of a dataset. Range is the difference between the maximum and minimum values, variance is the average squared deviation from the mean, and standard deviation is the square root of the variance. They are used to provide information about how much the values in a dataset vary from each other and from the central tendency measure. For example, a dataset with a large standard deviation indicates that the values are widely spread out from the mean, while a small standard deviation indicates that the values are clustered closely around the mean.\n",
    "\n",
    "\n",
    "Q6. A Venn diagram is a graphical representation of the relationships between sets. It consists of circles or other shapes that represent sets, with overlaps or intersections indicating shared elements between sets.\n",
    "Q7. (i) A B = (2, 6) (ii) A ⋃ B = (0, 2, 3, 4, 5, 6, 7, 8, 10).\n",
    "\n",
    "\n",
    "Q8. Skewness in data refers to the degree of asymmetry of the distribution. It occurs when the data is not symmetrically distributed around the mean. A positive skewness indicates that the tail of the distribution is longer on the positive side, while a negative skewness indicates that the tail is longer on the negative side.\n",
    "\n",
    "\n",
    "Q9. If a data is right skewed, then the median will be less than the mean.\n",
    "\n",
    "\n",
    "Q10. Covariance measures the degree of linear association between two variables, while correlation measures the strength and direction of the relationship between two variables. Covariance can take any value between negative infinity and positive infinity, while correlation is always between -1 and 1. Both measures are used in statistical analysis to understand the relationship between two variables and to make predictions.\n",
    "\n",
    "\n",
    "Q11. The formula for calculating the sample mean is:\n",
    "\n",
    "mean = (sum of values) / (number of values)\n",
    "\n",
    "Example: for the dataset [1, 2, 3, 4, 5], the mean would be calculated as:\n",
    "\n",
    "mean = (1 + 2 + 3 + 4 + 5) / 5 = 3.\n",
    "\n",
    "\n",
    "Q12. For a normal distribution, the mean, median, and mode are all equal.\n",
    "\n",
    "\n",
    "Q13. Covariance measures the degree of linear association between two variables, while correlation measures the strength and direction of the relationship between two variables, standardized to a range of -1 to 1. Covariance is affected by the units of measurement, while correlation is not. Covariance can take any value between negative infinity and positive infinity, while correlation is always between -1 and 1.\n",
    "\n",
    "\n",
    "Q14. Outliers can significantly affect measures of central tendency and dispersion. If an outlier is very large or small compared to the other values in a dataset, it can pull the mean in its direction and make it an unrepresentative measure of the central tendency. Similarly, an outlier can increase the range, variance, and standard deviation of a dataset if it is significantly different from the other values.For example, if a dataset contains the values [1, 2, 3, 4, 5, 100], the mean would be greatly influenced by the outlier value of 100 and would not be a good representation of the central tendency of the dataset. Additionally, the range, variance, and standard deviation would be much larger than if the outlier value was not present. Therefore, it is important to identify and handle outliers appropriately when analyzing data."
   ]
  },
  {
   "cell_type": "code",
   "execution_count": null,
   "id": "e1a31288-1e68-437d-b9b0-38f9b3ccd47f",
   "metadata": {},
   "outputs": [],
   "source": []
  }
 ],
 "metadata": {
  "kernelspec": {
   "display_name": "Python 3 (ipykernel)",
   "language": "python",
   "name": "python3"
  },
  "language_info": {
   "codemirror_mode": {
    "name": "ipython",
    "version": 3
   },
   "file_extension": ".py",
   "mimetype": "text/x-python",
   "name": "python",
   "nbconvert_exporter": "python",
   "pygments_lexer": "ipython3",
   "version": "3.10.8"
  }
 },
 "nbformat": 4,
 "nbformat_minor": 5
}
