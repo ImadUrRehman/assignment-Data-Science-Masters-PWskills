{
 "cells": [
  {
   "cell_type": "markdown",
   "id": "3740059e",
   "metadata": {},
   "source": [
    " Q1. Explain why we have to use the Exception class while creating a Custom Exception.\n",
    "\n",
    "When creating a custom exception in Python, it is necessary to use the Exception class because it is the base class for all \n",
    "exceptions in Python.\n",
    "By inheriting from the Exception class, the custom exception class will inherit all of the functionality of the Exception class,\n",
    "which includes the ability to capture and report the details of the exception when it is raised. This includes the traceback, \n",
    "the error message, and any other relevant information about the exception.\n",
    "Additionally, using the Exception class as a base class makes it easier to catch the custom exception along with other built-in \n",
    "exceptions in a try-except block."
   ]
  },
  {
   "cell_type": "markdown",
   "id": "049ec497",
   "metadata": {},
   "source": [
    " Q3. What errors are defined in the ArithmeticError class? Explain any two with an example.\n",
    "\n",
    "The ArithmeticError class in Python defines errors that occur during arithmetic operations.\n",
    "Two examples of errors defined in this class are\n",
    "ZeroDivisionError: This error occurs when an attempt is made to divide a number by zero. For example:\n",
    "         1 / 0\n",
    "KeyError: This error occurs when a key is not found in a dictionary. For example:\n",
    "         d = {'a': 1, 'b': 2, 'c': 3}\n",
    "         d['d']\n",
    "\n",
    "\n",
    "    "
   ]
  },
  {
   "cell_type": "code",
   "execution_count": 4,
   "id": "2d7eaf8f",
   "metadata": {},
   "outputs": [
    {
     "ename": "SyntaxError",
     "evalue": "EOL while scanning string literal (432062856.py, line 11)",
     "output_type": "error",
     "traceback": [
      "\u001b[1;36m  File \u001b[1;32m\"C:\\Users\\IMAD\\AppData\\Local\\Temp\\ipykernel_6596\\432062856.py\"\u001b[1;36m, line \u001b[1;32m11\u001b[0m\n\u001b[1;33m    ''''IndexError: This error occurs when an index is out of range in a list or other sequence. For example''''\u001b[0m\n\u001b[1;37m                                                                                                                ^\u001b[0m\n\u001b[1;31mSyntaxError\u001b[0m\u001b[1;31m:\u001b[0m EOL while scanning string literal\n"
     ]
    }
   ],
   "source": [
    "## Q4. Why LookupError class is used? Explain with an example KeyError and IndexError.\n",
    "\n",
    "'''The LookupError class in Python is used for errors that occur when a key or index is not found in a dictionary, list, or other\n",
    "sequence.\n",
    "\n",
    "KeyError: This error occurs when a key is not found in a dictionary.'''\n",
    "\n",
    "d = {'a': 1, 'b': 2, 'c': 3}\n",
    "d['d']\n",
    "\n",
    "'''IndexError: This error occurs when an index is out of range in a list or other sequence. For example'''\n",
    "\n",
    "lst = [1, 2, 3]\n",
    "lst[3]"
   ]
  },
  {
   "cell_type": "markdown",
   "id": "5ac4b5b3",
   "metadata": {},
   "source": [
    "Q5. Explain ImportError. What is ModuleNotFoundError?\n",
    "\n",
    "ImportError is a built-in exception in Python that occurs when a module could not be imported. \n",
    "This can happen if the module is not found, if there is a syntax error in the module, or if there is a problem with the \n",
    "dependencies of the module. ModuleNotFoundError is a subclass of ImportError that specifically occurs when the module cannot\n",
    "be found. \n"
   ]
  },
  {
   "cell_type": "markdown",
   "id": "89348a96",
   "metadata": {},
   "source": [
    " Q6. List down some best practices for exception handling in python.\n",
    "    \n",
    "Catch specific exceptions: Instead of catching all exceptions with a broad except statement, \n",
    "try to catch only the specific exceptions that you are expecting.\n",
    "This will make it easier to handle different exceptions in different ways.\n",
    "\n",
    "Use try-except-finally blocks: Use try-except-finally \n",
    "blocks to ensure that resources are cleaned up properly, even if an exception occurs. \n",
    "For example, if you open a file in a try block, make sure to close the file in the finally block"
   ]
  },
  {
   "cell_type": "code",
   "execution_count": null,
   "id": "8f78aa3f",
   "metadata": {},
   "outputs": [],
   "source": []
  }
 ],
 "metadata": {
  "kernelspec": {
   "display_name": "Python 3 (ipykernel)",
   "language": "python",
   "name": "python3"
  },
  "language_info": {
   "codemirror_mode": {
    "name": "ipython",
    "version": 3
   },
   "file_extension": ".py",
   "mimetype": "text/x-python",
   "name": "python",
   "nbconvert_exporter": "python",
   "pygments_lexer": "ipython3",
   "version": "3.9.13"
  }
 },
 "nbformat": 4,
 "nbformat_minor": 5
}
