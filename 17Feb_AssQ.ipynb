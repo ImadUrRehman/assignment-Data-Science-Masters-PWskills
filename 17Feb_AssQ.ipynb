{
 "cells": [
  {
   "cell_type": "markdown",
   "id": "37f286bc-8b72-4fa7-b7e5-6b896d8bd700",
   "metadata": {},
   "source": [
    "### Q1\n",
    " MongoDB is a NoSQL document-oriented database that uses JSON-like documents with dynamic schemas. In non-relational databases, data is stored in a way that does not require a fixed schema, unlike traditional SQL databases. Non-relational databases are preferred when dealing with large and complex data sets that do not have a well-defined structure or when the data is expected to grow rapidly. MongoDB is preferred over SQL databases when scalability and performance are the key requirements, as it provides fast data retrieval, horizontal scaling, and automatic sharding."
   ]
  },
  {
   "cell_type": "markdown",
   "id": "32d37b9b-9b03-4569-ae9c-2158b3693375",
   "metadata": {},
   "source": [
    "# Q2.\n",
    "Some of the key features of MongoDB are:\n",
    "\n",
    "Document-oriented: MongoDB stores data in flexible JSON-like documents, making it easy to store and manage data in a non-structured way.\n",
    "Ad hoc queries: MongoDB supports ad hoc queries, making it easy to search and retrieve data using a flexible query language.\n",
    "Scalability: MongoDB provides automatic sharding and horizontal scaling, allowing it to handle large and complex data sets.\n",
    "Indexing: MongoDB supports secondary indexes, making it easy to search and retrieve data quickly.\n",
    "Aggregation: MongoDB provides a powerful aggregation framework that allows you to perform complex data aggregation tasks on the database side.\n",
    "Flexible data model: MongoDB provides a flexible data model that can handle a wide range of data types and structures.\n"
   ]
  },
  {
   "cell_type": "code",
   "execution_count": null,
   "id": "c9cc4b57-d7fc-487f-80a0-f07ba0f6bd89",
   "metadata": {},
   "outputs": [],
   "source": [
    "# Q3\n",
    "import pymongo\n",
    "\n",
    "# Establish a connection to the MongoDB server\n",
    "client = pymongo.MongoClient()\n",
    "\n",
    "# Create a new database and collection\n",
    "db = client['mydatabase']\n",
    "collection = db['mycollection']\n"
   ]
  },
  {
   "cell_type": "code",
   "execution_count": null,
   "id": "f6a66211-1c37-423d-83e1-67424ffb43f7",
   "metadata": {},
   "outputs": [],
   "source": [
    "#Q4\n",
    "# Insert one record\n",
    "record = {'name': 'John', 'age': 30, 'city': 'New York'}\n",
    "result = collection.insert_one(record)\n",
    "\n",
    "# Print the inserted record\n",
    "print(result.inserted_id)\n",
    "\n",
    "# Insert many records\n",
    "records = [{'name': 'Jane', 'age': 25, 'city': 'London'},\n",
    "           {'name': 'Bob', 'age': 40, 'city': 'Paris'},\n",
    "           {'name': 'Alice', 'age': 35, 'city': 'Tokyo'}]\n",
    "result = collection.insert_many(records)\n",
    "\n",
    "# Print the inserted record\n",
    "print(result.inserted_ids)\n",
    "\n",
    "# Print all the records\n",
    "for record in collection.find():\n",
    "    print(record)\n",
    "    \n",
    "# Print one record\n",
    "print(collection.find_one({'name': 'John'}))\n"
   ]
  },
  {
   "cell_type": "code",
   "execution_count": null,
   "id": "0a485a95-c414-4487-bd86-743aa6894844",
   "metadata": {},
   "outputs": [],
   "source": [
    "#Q5\n",
    "\n",
    "'''The find() method is used to query the MongoDB database. \n",
    "We can use it to search for documents in a collection based on a set of criteria.'''\n",
    "\n",
    "# Find all the records where the city is 'New York'\n",
    "result = collection.find({'city': 'New York'})\n",
    "\n",
    "# Print the records\n",
    "for record in result:\n",
    "    print(record)\n",
    "\n"
   ]
  },
  {
   "cell_type": "code",
   "execution_count": null,
   "id": "de83d8fa-ada4-4ef6-bd95-969212b0783e",
   "metadata": {},
   "outputs": [],
   "source": [
    "# Q6\n",
    "'''The sort() method is used to sort the results of a query in MongoDB. \n",
    "It takes a field to sort on and an optional direction parameter(1 for ascending order, -1 for descending order).'''\n",
    "\n",
    "# Sort the records by age in descending order\n",
    "result = collection.find().sort('age', -1)\n",
    "\n",
    "# Print the sorted records\n",
    "for record in result:\n",
    "    print(record)\n"
   ]
  },
  {
   "cell_type": "markdown",
   "id": "a141f9ce-f6a5-4d78-90f9-3fb355272a48",
   "metadata": {},
   "source": [
    "### Q7\n",
    "The delete_one() method is used to delete a single document that matches a given criteria. The delete_many() method is used to delete multiple"
   ]
  },
  {
   "cell_type": "code",
   "execution_count": null,
   "id": "511601b6-fa83-4c5d-b757-4b13916a8f41",
   "metadata": {},
   "outputs": [],
   "source": []
  },
  {
   "cell_type": "code",
   "execution_count": null,
   "id": "d440c4c6-db4d-4381-889d-ebc3f48f1781",
   "metadata": {},
   "outputs": [],
   "source": []
  },
  {
   "cell_type": "code",
   "execution_count": null,
   "id": "241e6764-a06a-4148-bf06-7b3dec02eb46",
   "metadata": {},
   "outputs": [],
   "source": []
  }
 ],
 "metadata": {
  "kernelspec": {
   "display_name": "Python 3 (ipykernel)",
   "language": "python",
   "name": "python3"
  },
  "language_info": {
   "codemirror_mode": {
    "name": "ipython",
    "version": 3
   },
   "file_extension": ".py",
   "mimetype": "text/x-python",
   "name": "python",
   "nbconvert_exporter": "python",
   "pygments_lexer": "ipython3",
   "version": "3.10.8"
  }
 },
 "nbformat": 4,
 "nbformat_minor": 5
}
