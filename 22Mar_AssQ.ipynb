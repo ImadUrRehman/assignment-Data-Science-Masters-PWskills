{
 "cells": [
  {
   "cell_type": "code",
   "execution_count": 1,
   "id": "e52d346d-def1-4149-a752-0656bf380a6e",
   "metadata": {},
   "outputs": [
    {
     "name": "stdout",
     "output_type": "stream",
     "text": [
      "Pearson correlation coefficient: 1.0\n"
     ]
    }
   ],
   "source": [
    "import numpy as np\n",
    "from scipy.stats import pearsonr\n",
    "\n",
    "# create a numpy array for the amount of time spent studying\n",
    "studying = np.array([10, 20, 30, 40, 50])\n",
    "\n",
    "# create a numpy array for the final exam scores\n",
    "scores = np.array([60, 70, 80, 90, 100])\n",
    "\n",
    "# use the pearsonr function from scipy.stats to calculate the Pearson correlation coefficient\n",
    "corr, p_value = pearsonr(studying, scores)\n",
    "\n",
    "# print the result\n",
    "print(\"Pearson correlation coefficient:\", corr)\n",
    "\n",
    "\n",
    "\n",
    "##Note that in this example, the correlation coefficient is 1.0, indicating a perfect positive linear relationship between the two variables. However, this is just an example, and in real-world data, it's unlikely to find a perfect correlation. \n",
    "#Also, the p_value returned by the pearsonr function can be used to determine the significance of the correlation.\n"
   ]
  },
  {
   "cell_type": "markdown",
   "id": "b2aa271a-f782-49f5-a4b4-fa995a4b5802",
   "metadata": {},
   "source": [
    "A1. The resulting coefficient will be a value between -1 and 1, with a value of 0 indicating no correlation, a value of -1 indicating a perfect negative correlation, and a value of 1 indicating a perfect positive correlation."
   ]
  },
  {
   "cell_type": "markdown",
   "id": "acb1dc69-d5e9-4c82-a7ca-c610c026006f",
   "metadata": {},
   "source": [
    "A2. To calculate the Spearman's rank correlation between the amount of sleep individuals get each night and their overall job satisfaction level, we need to first rank the data for each variable separately, with the lowest value assigned a rank of 1 and the highest value assigned the highest rank. Then we can calculate the difference in ranks for each individual between the two variables, and use a statistical program to compute the correlation coefficient. The resulting coefficient will also be a value between -1 and 1, with the same interpretations as for the Pearson correlation coefficient.\n",
    "\n",
    "If the Spearman's rank correlation between the amount of sleep and job satisfaction is, for example, -0.6, this would indicate a strong negative monotonic relationship between the two variables. In other words, individuals who get less sleep tend to report lower levels of job satisfaction, and those who get more sleep tend to report higher levels of job satisfaction. Unlike the Pearson correlation coefficient, the Spearman's rank correlation does not assume that the relationship between the two variables is linear, but only that it is monotonic."
   ]
  },
  {
   "cell_type": "markdown",
   "id": "e6507caf-f159-44dd-a212-28ba00f3d35d",
   "metadata": {},
   "source": [
    "A3. To compare the Pearson and Spearman's rank correlations between the number of hours of exercise per week and BMI, we can calculate both coefficients for the same dataset of 50 participants. The Pearson correlation coefficient measures the strength and direction of the linear relationship between the two variables, while the Spearman's rank correlation measures the strength and direction of the monotonic relationship between the two variables.\n",
    "\n",
    "If the Pearson correlation coefficient between exercise and BMI is, for example, 0.4, and the Spearman's rank correlation is 0.3, this would indicate that there is a positive relationship between the two variables, but that the relationship is stronger if we assume a linear relationship (Pearson) than if we assume only a monotonic relationship (Spearman's rank). However, the interpretation of the coefficients would depend on the specific values obtained from the dataset, and it's important to assess the significance of the coefficients and the assumptions underlying the calculations."
   ]
  },
  {
   "cell_type": "code",
   "execution_count": 15,
   "id": "19019302-995d-4ae7-bc98-f63f17ac63b6",
   "metadata": {},
   "outputs": [],
   "source": [
    "#A.4\n",
    "import pandas as pd\n",
    "df = pd.DataFrame({'tv_hours' : [2, 3, 1, 4, 2, 3, 1, 1, 2, 3,\n",
    "                     2, 2, 1, 3, 4, 2, 2, 3, 1, 4,\n",
    "                     3, 3, 1, 2, 1, 4, 2, 3, 2, 2,\n",
    "                     1, 4, 2, 3, 1, 2, 2, 3, 4, 1,\n",
    "                     3, 3, 1, 2, 4, 1, 2, 9, 4, 2],\n",
    "\n",
    "'activity_level' : [2, 3, 1, 4, 2, 3, 1, 1, 2, 3,\n",
    "                           2, 2, 1, 3, 4, 2, 2, 3, 1, 4,\n",
    "                           3, 3, 1, 2, 1, 4, 2, 3, 2, 2,\n",
    "                           1, 4, 2, 3, 1, 2, 2, 3, 4, 1,\n",
    "                           3, 3, 1, 2, 4, 1, 2, 3, 4, 2]}\n",
    ")"
   ]
  },
  {
   "cell_type": "code",
   "execution_count": 16,
   "id": "ea70862a-6b13-41c5-ba74-623f4cb7363d",
   "metadata": {},
   "outputs": [
    {
     "data": {
      "text/html": [
       "<div>\n",
       "<style scoped>\n",
       "    .dataframe tbody tr th:only-of-type {\n",
       "        vertical-align: middle;\n",
       "    }\n",
       "\n",
       "    .dataframe tbody tr th {\n",
       "        vertical-align: top;\n",
       "    }\n",
       "\n",
       "    .dataframe thead th {\n",
       "        text-align: right;\n",
       "    }\n",
       "</style>\n",
       "<table border=\"1\" class=\"dataframe\">\n",
       "  <thead>\n",
       "    <tr style=\"text-align: right;\">\n",
       "      <th></th>\n",
       "      <th>tv_hours</th>\n",
       "      <th>activity_level</th>\n",
       "    </tr>\n",
       "  </thead>\n",
       "  <tbody>\n",
       "    <tr>\n",
       "      <th>tv_hours</th>\n",
       "      <td>1.000000</td>\n",
       "      <td>0.793469</td>\n",
       "    </tr>\n",
       "    <tr>\n",
       "      <th>activity_level</th>\n",
       "      <td>0.793469</td>\n",
       "      <td>1.000000</td>\n",
       "    </tr>\n",
       "  </tbody>\n",
       "</table>\n",
       "</div>"
      ],
      "text/plain": [
       "                tv_hours  activity_level\n",
       "tv_hours        1.000000        0.793469\n",
       "activity_level  0.793469        1.000000"
      ]
     },
     "execution_count": 16,
     "metadata": {},
     "output_type": "execute_result"
    }
   ],
   "source": [
    "df.corr(method='pearson')"
   ]
  },
  {
   "cell_type": "code",
   "execution_count": null,
   "id": "27c629c4-a5bd-4c10-9c6c-9dec42cf3199",
   "metadata": {},
   "outputs": [],
   "source": []
  }
 ],
 "metadata": {
  "kernelspec": {
   "display_name": "Python 3 (ipykernel)",
   "language": "python",
   "name": "python3"
  },
  "language_info": {
   "codemirror_mode": {
    "name": "ipython",
    "version": 3
   },
   "file_extension": ".py",
   "mimetype": "text/x-python",
   "name": "python",
   "nbconvert_exporter": "python",
   "pygments_lexer": "ipython3",
   "version": "3.10.8"
  }
 },
 "nbformat": 4,
 "nbformat_minor": 5
}
