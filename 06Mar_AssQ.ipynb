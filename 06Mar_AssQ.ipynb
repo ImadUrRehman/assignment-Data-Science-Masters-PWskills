{
 "cells": [
  {
   "cell_type": "markdown",
   "id": "538ee3ee-7970-4eff-a408-186038a1185f",
   "metadata": {},
   "source": [
    "Q1. Statistics is a branch of mathematics that deals with the collection, analysis, interpretation, presentation, and organization of data.\n",
    "\n",
    "\n",
    "Q2. There are two main types of statistics: descriptive statistics and inferential statistics. Descriptive statistics are used to describe or summarize the characteristics of a dataset, while inferential statistics are used to make inferences or draw conclusions about a population based on a sample.\n",
    "\n",
    "For example, if a researcher wanted to describe the average height of a group of people, they would use descriptive statistics to calculate the mean, median, and mode. If the researcher wanted to know if the average height of the group was significantly different from the average height of the population as a whole, they would use inferential statistics to conduct a hypothesis test.\n",
    "\n",
    "\n",
    "Q3. There are four types of data: nominal, ordinal, interval, and ratio. Nominal data are categorical data that cannot be ranked or ordered, such as gender or race. Ordinal data are categorical data that can be ranked or ordered, such as levels of education. Interval data are numerical data where the difference between values is meaningful, but there is no true zero point, such as temperature on the Celsius scale. Ratio data are numerical data where the difference between values is meaningful and there is a true zero point, such as weight or height.\n",
    "\n",
    "Q4. (i) Grading in exam: Qualitative data\n",
    "(ii) Colour of mangoes: Qualitative data\n",
    "(iii) Height data of a class: Quantitative data\n",
    "(iv) Number of mangoes exported by a farm: Quantitative data\n",
    "\n",
    "\n",
    "Q5. The level of measurement refers to the mathematical properties of a variable. There are four levels of measurement: nominal, ordinal, interval, and ratio. Nominal variables are qualitative variables that cannot be ordered or ranked, such as eye color. Ordinal variables are qualitative variables that can be ordered or ranked, such as levels of education. Interval variables are quantitative variables where the distance between values is equal, but there is no true zero point, such as temperature measured in Celsius. Ratio variables are quantitative variables where the distance between values is equal and there is a true zero point, such as weight or height.\n",
    "\n",
    "\n",
    "Q6. Understanding the level of measurement is important when analyzing data because it determines the types of statistical analyses that can be used. For example, nominal data cannot be used in calculations such as means or standard deviations, which are common in inferential statistics. Instead, nominal data are usually analyzed using frequency counts or percentages.\n",
    "\n",
    "\n",
    "Q7. Nominal data are categorical data that cannot be ranked or ordered, while ordinal data are categorical data that can be ranked or ordered. For example, gender is a nominal variable because it cannot be ranked or ordered, while education level is an ordinal variable because it can be ranked or ordered based on the level of education achieved.\n",
    "\n",
    "\n",
    "Q8. A box plot or a box-and-whisker plot can be used to display data in terms of range. This type of plot shows the median, quartiles, and outliers of a dataset, making it easy to see the range of the data.\n",
    "\n",
    "Q9. Descriptive statistics are used to describe or summarize the characteristics of a dataset, such as the mean, median, mode, and standard deviation. These statistics are useful for understanding the distribution of the data and identifying any outliers. Inferential statistics are used to make inferences or draw conclusions about a population based on a sample. For example, a researcher might use inferential statistics to determine if a new drug is more effective than an existing drug based on a randomized controlled trial.\n",
    "\n",
    "Q10. Measures of central tendency are used to describe the \"typical\" or \"average\" value of a dataset. Common measures of central tendency include the mean, median, and mode. The mean is the sum of all values divided by the number of values, and it is sensitive to outliers. The median is the middle value when the data is ordered from least to greatest, and it is less sensitive to outliers than the mean. The mode is the most frequent value in the dataset."
   ]
  }
 ],
 "metadata": {
  "kernelspec": {
   "display_name": "Python 3 (ipykernel)",
   "language": "python",
   "name": "python3"
  },
  "language_info": {
   "codemirror_mode": {
    "name": "ipython",
    "version": 3
   },
   "file_extension": ".py",
   "mimetype": "text/x-python",
   "name": "python",
   "nbconvert_exporter": "python",
   "pygments_lexer": "ipython3",
   "version": "3.10.8"
  }
 },
 "nbformat": 4,
 "nbformat_minor": 5
}
