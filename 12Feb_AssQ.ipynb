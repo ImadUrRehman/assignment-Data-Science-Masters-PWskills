{
 "cells": [
  {
   "cell_type": "markdown",
   "id": "0c1021c7",
   "metadata": {},
   "source": [
    "Q1\n",
    "\n",
    "In Python, an exception is an event that occurs during the execution of a program that disrupts the normal flow of instructions.\n",
    "When an exception occurs, the Python interpreter generates an object containing information about the error, and the program \n",
    "terminates abruptly, unless the error is handled by the code.\n",
    "\n",
    "the main difference between syntax errors and exceptions is that syntax errors occur during the compilation or interpretation\n",
    "of the code due to a violation of the language syntax rules,\n",
    "while exceptions occur during the execution of the program due to unforeseen runtime conditions."
   ]
  },
  {
   "cell_type": "code",
   "execution_count": 1,
   "id": "a2bc2f2c",
   "metadata": {},
   "outputs": [
    {
     "ename": "ZeroDivisionError",
     "evalue": "division by zero",
     "output_type": "error",
     "traceback": [
      "\u001b[1;31m---------------------------------------------------------------------------\u001b[0m",
      "\u001b[1;31mZeroDivisionError\u001b[0m                         Traceback (most recent call last)",
      "\u001b[1;32m~\\AppData\\Local\\Temp\\ipykernel_9612\\2669466142.py\u001b[0m in \u001b[0;36m<module>\u001b[1;34m\u001b[0m\n\u001b[0;32m      8\u001b[0m     \u001b[0mnum1\u001b[0m \u001b[1;33m=\u001b[0m \u001b[1;36m100\u001b[0m\u001b[1;33m\u001b[0m\u001b[1;33m\u001b[0m\u001b[0m\n\u001b[0;32m      9\u001b[0m \u001b[1;33m\u001b[0m\u001b[0m\n\u001b[1;32m---> 10\u001b[1;33m     \u001b[0mresult\u001b[0m \u001b[1;33m=\u001b[0m \u001b[0mnum1\u001b[0m \u001b[1;33m/\u001b[0m \u001b[1;36m0\u001b[0m\u001b[1;33m\u001b[0m\u001b[1;33m\u001b[0m\u001b[0m\n\u001b[0m\u001b[0;32m     11\u001b[0m     \u001b[0mprint\u001b[0m\u001b[1;33m(\u001b[0m\u001b[1;34m\"The result is: \"\u001b[0m\u001b[1;33m,\u001b[0m \u001b[0mresult\u001b[0m\u001b[1;33m)\u001b[0m\u001b[1;33m\u001b[0m\u001b[1;33m\u001b[0m\u001b[0m\n\u001b[0;32m     12\u001b[0m \u001b[1;32mexcept\u001b[0m \u001b[0mValueError\u001b[0m\u001b[1;33m:\u001b[0m\u001b[1;33m\u001b[0m\u001b[1;33m\u001b[0m\u001b[0m\n",
      "\u001b[1;31mZeroDivisionError\u001b[0m: division by zero"
     ]
    }
   ],
   "source": [
    "\"\"\"Q2.\n",
    "\n",
    "When an exception is not handled, it results in a runtime error that causes the program to terminate abruptly.\n",
    "This means that the code after the point where the exception occurred is not executed,\n",
    "and the program exits without completing its intended task.\"\"\"\n",
    "\n",
    "try:\n",
    "    num1 = 100\n",
    "    \n",
    "    result = num1 / 0\n",
    "    print(\"The result is: \", result)\n",
    "except ValueError:\n",
    "    print(\"Invalid input\")\n"
   ]
  },
  {
   "cell_type": "code",
   "execution_count": 2,
   "id": "7558c38b",
   "metadata": {},
   "outputs": [
    {
     "name": "stdout",
     "output_type": "stream",
     "text": [
      "You cannot divide by zero\n"
     ]
    }
   ],
   "source": [
    "#Q3\n",
    "\n",
    "\n",
    "# To handle exceptions, we use try and except statements.\n",
    "try:\n",
    "    x = 1\n",
    "   \n",
    "    print(x/0)\n",
    "except ZeroDivisionError:\n",
    "    print(\"You cannot divide by zero\")\n",
    "\n"
   ]
  },
  {
   "cell_type": "code",
   "execution_count": null,
   "id": "ce78f32f",
   "metadata": {},
   "outputs": [],
   "source": [
    "##Q4. try and else\n",
    "# else block executes if try is executed without an exception\n",
    "try:\n",
    "    f = open(\"test10.txt\",\"w\")\n",
    "    f.write(\"this is my message\")\n",
    "except Exception as e:\n",
    "    print(\"there is some issue with my code\",e)\n",
    "else:\n",
    "    f.close()\n",
    "    print(\"this block will execute once try is executed  without an exception\")\n",
    "\n",
    "    \n",
    "## finally\n",
    "# finally block is executed always  whether an exception is raaised or not\n",
    "try:\n",
    "    f = open(\"test11.txt\",\"r\")\n",
    "    f.write(\"this is my message\")\n",
    "except Exception as e:\n",
    "    print(\"there is some issue with my code\",e)\n",
    "else:\n",
    "    f.close()\n",
    "    print(\"this block will execute once try is executed  without an exception\")\n",
    "finally:\n",
    "    print(\"this block will execute always\")\n",
    "    \n",
    "## raise \n"
   ]
  },
  {
   "cell_type": "code",
   "execution_count": null,
   "id": "fce9a094",
   "metadata": {},
   "outputs": [],
   "source": [
    "#Q5.\n",
    "\n",
    "Sometimes based on project requirement, a programmer needs to create his own exceptions and raise explicitly for corresponding \n",
    "scenarios. Such types of exceptions are called customized Exceptions or Programmatic Exceptions.\n",
    "We can raise a custom exception by using the keyword ‘raise’.\n"
   ]
  },
  {
   "cell_type": "code",
   "execution_count": null,
   "id": "5fbe522c",
   "metadata": {},
   "outputs": [],
   "source": [
    "#Q6.\n",
    "\n",
    "age = input(\"Enter your age\")\n",
    "\n",
    "class validateage(Exception):\n",
    "    def __init__(self,msg):\n",
    "        self.msg = msg\n",
    "        \n",
    "def validate_age(age):\n",
    "    if age<0:\n",
    "        raise validateage(\"age should be greater than 0\")\n",
    "    elif age>200:\n",
    "        raise validateage(\"too high\")\n",
    "    else:\n",
    "        print(\"age is valid\")\n",
    "\n",
    "try:\n",
    "    age = int(input(\"enter your age\"))\n",
    "    validate_age(age)\n",
    "except validateage as e:\n",
    "    print(e)        "
   ]
  },
  {
   "cell_type": "code",
   "execution_count": null,
   "id": "f535992d",
   "metadata": {},
   "outputs": [],
   "source": []
  },
  {
   "cell_type": "code",
   "execution_count": null,
   "id": "6b3b4a70",
   "metadata": {},
   "outputs": [],
   "source": []
  }
 ],
 "metadata": {
  "kernelspec": {
   "display_name": "Python 3 (ipykernel)",
   "language": "python",
   "name": "python3"
  },
  "language_info": {
   "codemirror_mode": {
    "name": "ipython",
    "version": 3
   },
   "file_extension": ".py",
   "mimetype": "text/x-python",
   "name": "python",
   "nbconvert_exporter": "python",
   "pygments_lexer": "ipython3",
   "version": "3.9.13"
  }
 },
 "nbformat": 4,
 "nbformat_minor": 5
}
