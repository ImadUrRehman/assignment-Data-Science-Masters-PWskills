{
 "cells": [
  {
   "cell_type": "markdown",
   "id": "7b403f37-8eef-4f17-875c-c2d181a2a5b7",
   "metadata": {},
   "source": [
    "Q1. In order to predict house prices based on several characteristics, a suitable regression metric to employ would be Mean Squared Error (MSE). MSE measures the average squared difference between the predicted house prices and the actual prices. It provides an overall assessment of the model's performance in terms of the magnitude of errors and is commonly used in regression tasks.\n",
    "\n",
    "Q2. If the goal is to predict the actual price of a house as accurately as possible, Mean Squared Error (MSE) would be the more appropriate evaluation metric. MSE focuses on the average squared difference between the predicted and actual prices, providing insight into the magnitude of errors. By minimizing MSE, the model aims to reduce the overall prediction errors and improve the accuracy of price predictions.\n",
    "\n",
    "Q3. When dealing with a dataset that contains a significant number of outliers, an appropriate regression metric to use with an SVM model would be Mean Absolute Error (MAE). MAE measures the average absolute difference between the predicted and actual values, regardless of the direction of the difference. It is less sensitive to outliers compared to MSE, making it a more robust metric in the presence of outliers.\n",
    "\n",
    "Q4. In this case, if both the Mean Squared Error (MSE) and Root Mean Squared Error (RMSE) values are very close, it is generally recommended to use RMSE as the evaluation metric. RMSE is the square root of MSE and provides a measure of the average absolute difference between the predicted and actual values. RMSE is commonly used when the errors are in the same unit as the target variable, which is often the case in regression tasks.\n",
    "\n",
    "Q5. If the goal is to measure how well the model explains the variance in the target variable, an appropriate evaluation metric would be R-squared (R²) or the coefficient of determination. R² represents the proportion of variance in the target variable that can be explained by the model. A higher R² value indicates that the model explains a larger portion of the variance in the target variable, suggesting a better fit. Therefore, R² would be the most appropriate metric in this scenario to compare the performance of different SVM regression models using different kernels.\n",
    "\n",
    "\n",
    "\n",
    "\n",
    "\n"
   ]
  },
  {
   "cell_type": "code",
   "execution_count": null,
   "id": "54da1166-75c7-48dc-904b-576cbc4b99f9",
   "metadata": {},
   "outputs": [],
   "source": []
  }
 ],
 "metadata": {
  "kernelspec": {
   "display_name": "Python 3 (ipykernel)",
   "language": "python",
   "name": "python3"
  },
  "language_info": {
   "codemirror_mode": {
    "name": "ipython",
    "version": 3
   },
   "file_extension": ".py",
   "mimetype": "text/x-python",
   "name": "python",
   "nbconvert_exporter": "python",
   "pygments_lexer": "ipython3",
   "version": "3.10.8"
  }
 },
 "nbformat": 4,
 "nbformat_minor": 5
}
