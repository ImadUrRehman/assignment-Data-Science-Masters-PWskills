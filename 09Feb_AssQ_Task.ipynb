{
 "cells": [
  {
   "cell_type": "code",
   "execution_count": 1,
   "id": "e78a2878",
   "metadata": {},
   "outputs": [],
   "source": [
    "##Q1, Create a vehicle class with an init method having instance variables as name_of_vehicle, max_speed and average_of_vehicle.\n",
    "\n",
    "\n",
    "\n",
    "class vehicle():\n",
    "    \n",
    "    def __init__(self,name_of_vehicle, max_speed ,average_of_vehicle):\n",
    "        self.name_of_vehicle = name_of_vehicle\n",
    "        self. max_speed =  max_speed\n",
    "        self.average_of_vehicle = average_of_vehicle"
   ]
  },
  {
   "cell_type": "code",
   "execution_count": 2,
   "id": "beccb95c",
   "metadata": {},
   "outputs": [],
   "source": [
    "##Q2. Create a child class car from the vehicle class created in Que 1, which will inherit the vehicle class.Create a method named seating_capacity which takes capacity as an argument and returns the name ofthe vehicle and its seating capacity.\n",
    "\n",
    "class child_class(vehicle):\n",
    "    def seating_capacity(self,capacity):\n",
    "        self.capacity = capacity\n",
    "        return self.name_of_vehicle, self.capacity\n",
    "\n",
    "\n",
    "\n"
   ]
  },
  {
   "cell_type": "code",
   "execution_count": 8,
   "id": "2d29521a",
   "metadata": {},
   "outputs": [],
   "source": [
    "v = child_class('toyota',240,15)"
   ]
  },
  {
   "cell_type": "code",
   "execution_count": 9,
   "id": "4c0f4bc8",
   "metadata": {},
   "outputs": [
    {
     "data": {
      "text/plain": [
       "'toyota'"
      ]
     },
     "execution_count": 9,
     "metadata": {},
     "output_type": "execute_result"
    }
   ],
   "source": [
    "v.name_of_vehicle\n"
   ]
  },
  {
   "cell_type": "code",
   "execution_count": 10,
   "id": "2e19d67b",
   "metadata": {},
   "outputs": [
    {
     "data": {
      "text/plain": [
       "('toyota', 5)"
      ]
     },
     "execution_count": 10,
     "metadata": {},
     "output_type": "execute_result"
    }
   ],
   "source": [
    "v.seating_capacity(5)"
   ]
  },
  {
   "cell_type": "code",
   "execution_count": 11,
   "id": "0557aeb5",
   "metadata": {},
   "outputs": [],
   "source": [
    "##Q3. What is multiple inheritance? Write a python code to demonstrate multiple inheritance.\n",
    "\n",
    "#    Multiple inheritance is a feature of object-oriented programming where a subclass can inherit attributes and methods from \n",
    "#    multiple parent classes.\n",
    "class class_1:\n",
    "    def test_class_1(self):\n",
    "        print(\"this is my class1\")\n",
    "class class_2:\n",
    "    def test_class_2(self):\n",
    "        print(\"this is my class2\")\n",
    "        \n",
    "class class_3(class_1,class_2):\n",
    "    def test_class3(self):\n",
    "        print(\"this is my class3\")\n",
    "  "
   ]
  },
  {
   "cell_type": "code",
   "execution_count": 12,
   "id": "fa896776",
   "metadata": {},
   "outputs": [],
   "source": [
    "##Q4 What are getter and setter in python? Create a class and create a getter and a setter method in this class.\n",
    "\n",
    "##    Getter and setter methods are used in object-oriented programming to access and modify the private attributes of a class.\n",
    "##   The getter method retrieves the value of the private attribute, while the setter method sets a new value for the attribute.\n",
    "\n",
    "class Person:\n",
    "    def __init__(self, name):\n",
    "        self.__name = name\n",
    "\n",
    "    def get_name(self):\n",
    "        return self.__name\n",
    "\n",
    "    def set_name(self, name):\n",
    "        self.__name = name\n",
    "\n"
   ]
  },
  {
   "cell_type": "code",
   "execution_count": 13,
   "id": "0c6d3924",
   "metadata": {},
   "outputs": [
    {
     "name": "stdout",
     "output_type": "stream",
     "text": [
      "The car's engine starts\n",
      "The motorcycle's engine starts\n"
     ]
    }
   ],
   "source": [
    "##Q5 What is method overriding in python? Write a python code to demonstrate method overriding.\n",
    "\n",
    "## Method overriding is a feature of object-oriented programming in which a subclass provides its own implementation of a method\n",
    "## that is already defined in its parent class.\n",
    "class Vehicle:\n",
    "    def start_engine(self):\n",
    "        print(\"The vehicle's engine starts\")\n",
    "\n",
    "class Car(Vehicle):\n",
    "    def start_engine(self):\n",
    "        print(\"The car's engine starts\")\n",
    "\n",
    "class Motorcycle(Vehicle):\n",
    "    def start_engine(self):\n",
    "        print(\"The motorcycle's engine starts\")\n",
    "\n",
    "my_car = Car()\n",
    "my_motorcycle = Motorcycle()\n",
    "\n",
    "my_car.start_engine()\n",
    "my_motorcycle.start_engine()"
   ]
  },
  {
   "cell_type": "code",
   "execution_count": null,
   "id": "f9268b6a",
   "metadata": {},
   "outputs": [],
   "source": []
  }
 ],
 "metadata": {
  "kernelspec": {
   "display_name": "Python 3 (ipykernel)",
   "language": "python",
   "name": "python3"
  },
  "language_info": {
   "codemirror_mode": {
    "name": "ipython",
    "version": 3
   },
   "file_extension": ".py",
   "mimetype": "text/x-python",
   "name": "python",
   "nbconvert_exporter": "python",
   "pygments_lexer": "ipython3",
   "version": "3.9.13"
  }
 },
 "nbformat": 4,
 "nbformat_minor": 5
}
