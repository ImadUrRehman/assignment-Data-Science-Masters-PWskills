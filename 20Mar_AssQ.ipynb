{
 "cells": [
  {
   "cell_type": "markdown",
   "id": "6ae791af-55ff-407b-be23-7157ff83179c",
   "metadata": {},
   "source": [
    "A1. Data encoding is the process of converting data from one format or representation to another, usually for the purpose of efficient storage, transmission, or processing. In data science, encoding is useful because many machine learning algorithms require numerical data as input, whereas many real-world datasets contain categorical data. Encoding categorical data into numerical data is a common preprocessing step in data science to make the data suitable for use with various machine learning algorithms."
   ]
  },
  {
   "cell_type": "markdown",
   "id": "287bc8e4-ab37-4eea-ad0f-b5a3d06c7b22",
   "metadata": {},
   "source": [
    "A2. Nominal encoding is a technique used to encode categorical variables where each unique category is assigned a unique integer value. For example, suppose we have a dataset containing information about students' favorite colors, which can take the values \"red\", \"green\", \"blue\", \"yellow\", or \"purple\". We could use nominal encoding to transform this categorical data into numerical data by assigning the values 1, 2, 3, 4, and 5, respectively, to each of the unique categories."
   ]
  },
  {
   "cell_type": "markdown",
   "id": "0a711155-a306-426a-9121-9e470af3df6e",
   "metadata": {},
   "source": [
    "A3.Nominal encoding is preferred over one-hot encoding in situations where there are many unique categories in a categorical variable. This is because one-hot encoding creates a new binary feature for each unique category, which can lead to the curse of dimensionality and cause performance issues for some machine learning algorithms. For example, suppose we have a dataset containing information about the make and model of cars. There may be thousands of unique make and model combinations, making one-hot encoding impractical. In this case, nominal encoding would be a better choice."
   ]
  },
  {
   "cell_type": "markdown",
   "id": "2604359c-e110-4445-90c2-6b6120f141cc",
   "metadata": {},
   "source": [
    "A4. If the dataset contains categorical data with five unique values, nominal encoding would be a suitable technique to transform this data into a format suitable for machine learning algorithms. This is because the number of unique categories is relatively small, making nominal encoding a more efficient encoding technique compared to one-hot encoding."
   ]
  },
  {
   "cell_type": "markdown",
   "id": "57607391-2459-45fe-b617-17cfb2bad262",
   "metadata": {},
   "source": [
    "A5. If we were to use nominal encoding to transform the categorical data in two columns of a dataset with 1000 rows and 5 columns, we would create two new columns, one for each categorical column. Since nominal encoding assigns a unique integer value to each unique category, we would replace each categorical column with a numerical column of integers, resulting in a dataset with 7 columns (5 original columns + 2 new nominal encoding columns)."
   ]
  },
  {
   "cell_type": "markdown",
   "id": "dd5a0817-8266-4b57-b8af-bcaa5dd4f222",
   "metadata": {},
   "source": [
    "A6. The encoding technique that would be used to transform categorical data in a dataset containing information about different types of animals, including their species, habitat, and diet, would depend on the specific characteristics of the data and the machine learning algorithm being used. If the categories within each variable have a natural ordering or ranking, then ordinal encoding could be used. On the other hand, if there is no natural ordering, nominal encoding would be the preferred technique."
   ]
  },
  {
   "cell_type": "markdown",
   "id": "696012ea-691a-417e-b678-414afe2a8e58",
   "metadata": {},
   "source": [
    "A7. To transform categorical data into numerical data, we can use two encoding techniques:\n",
    "\n",
    "Label Encoding\n",
    "\n",
    "One-Hot Encoding"
   ]
  },
  {
   "cell_type": "code",
   "execution_count": 1,
   "id": "dfa39c29-e93a-4ece-8cc3-41156d56d567",
   "metadata": {
    "tags": []
   },
   "outputs": [],
   "source": [
    "import pandas as pd\n",
    "from sklearn.preprocessing import OneHotEncoder\n",
    "df=pd.DataFrame({'gender':['male','female','male','male','female'],'contract_type':['a','b','a','c','b'],\n",
    "              'age':[25,60,30,47,34],'monthly_charges':[100,150,120,200,150],\n",
    "              'tenure':[2,3,2,5,1]\n",
    "\n",
    "       })\n",
    "categorical_features = ['gender', 'contract_type']\n",
    "numerical_features = ['age', 'monthly_charges', 'tenure']\n",
    "encoder = OneHotEncoder()\n",
    "encoded_categorical_features = encoder.fit_transform(df[categorical_features])\n",
    "encoded_df = pd.concat([pd.DataFrame(encoded_categorical_features.toarray()), df[numerical_features]], axis=1)\n"
   ]
  },
  {
   "cell_type": "code",
   "execution_count": null,
   "id": "f37682c3-edfa-4476-b5f8-3141dfe74a74",
   "metadata": {},
   "outputs": [],
   "source": []
  }
 ],
 "metadata": {
  "kernelspec": {
   "display_name": "Python 3 (ipykernel)",
   "language": "python",
   "name": "python3"
  },
  "language_info": {
   "codemirror_mode": {
    "name": "ipython",
    "version": 3
   },
   "file_extension": ".py",
   "mimetype": "text/x-python",
   "name": "python",
   "nbconvert_exporter": "python",
   "pygments_lexer": "ipython3",
   "version": "3.10.8"
  }
 },
 "nbformat": 4,
 "nbformat_minor": 5
}
