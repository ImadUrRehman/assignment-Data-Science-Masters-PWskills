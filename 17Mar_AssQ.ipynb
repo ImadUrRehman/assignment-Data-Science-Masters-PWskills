{
 "cells": [
  {
   "cell_type": "markdown",
   "id": "30d74f69-aef9-4d17-9219-70a98c470fdf",
   "metadata": {},
   "source": [
    "Q1: What are missing values in a dataset? Why is it essential to handle missing values? Name some\n",
    "algorithms that are not affected by missing values.\n",
    "\n",
    "\n",
    "Missing values in a dataset refer to the absence of data points in one or more attributes of an observation. There can be various reasons for missing values, including data entry errors, incomplete surveys, and non-response bias.\n",
    "\n",
    "Handling missing values is essential because they can lead to biased or incomplete results in statistical analyses, machine learning models, and decision-making processes. If not handled properly, missing values can affect the accuracy and reliability of these processes.\n",
    "\n",
    "Some algorithms that are not affected by missing values include decision trees, support vector machines (SVM), and random forests. These algorithms either impute the missing values or ignore them entirely during training and prediction. However, some algorithms such as linear regression and k-nearest neighbors (KNN) can be affected by missing values and require imputation techniques to handle them effectively."
   ]
  },
  {
   "cell_type": "markdown",
   "id": "958ce075-24f8-42f7-8160-b3a545bfb2ac",
   "metadata": {},
   "source": [
    "Q2: List down techniques used to handle missing data. Give an example of each with python code.\n",
    "\n",
    "Deletion: This technique involves removing the rows or columns that contain missing values.\n",
    "\n",
    "Imputation: This technique involves filling the missing values with a substitute value."
   ]
  },
  {
   "cell_type": "code",
   "execution_count": 3,
   "id": "b0ccc98a-fbb1-462f-84e6-25dca531e6a6",
   "metadata": {},
   "outputs": [
    {
     "name": "stdout",
     "output_type": "stream",
     "text": [
      "     A    B   C\n",
      "0  1.0  5.0   9\n",
      "3  4.0  8.0  12\n"
     ]
    }
   ],
   "source": [
    "import numpy as np\n",
    "import pandas as pd\n",
    "\n",
    "\n",
    "df = pd.DataFrame({'A': [1, 2, np.nan, 4],\n",
    "                   'B': [5, np.nan, np.nan, 8],\n",
    "                   'C': [9, 10, 11, 12]})\n",
    "\n",
    "# drop the rows with missing values\n",
    "df_drop = df.dropna()\n",
    "print(df_drop)\n",
    "\n",
    "\n"
   ]
  },
  {
   "cell_type": "markdown",
   "id": "979b83ea-59a6-4985-8d25-9a3f16e1e54a",
   "metadata": {},
   "source": [
    "Q3. Imbalanced data refers to a situation where the distribution of classes in a classification problem is unequal. This means that one class has a significantly larger number of samples than the other class. If imbalanced data is not handled, the model may be biased towards the majority class and have poor performance on the minority class. For example, in a binary classification problem where the positive class is the minority, the model may have high accuracy due to predicting all samples as the majority class, but it fails to identify the minority class, which is the actual target."
   ]
  },
  {
   "cell_type": "markdown",
   "id": "e886ef2e-550c-495e-b85f-87756d36a505",
   "metadata": {},
   "source": [
    "Q4. Up-sampling and down-sampling are techniques used to address the issue of imbalanced data. Up-sampling involves randomly duplicating samples from the minority class to increase its representation in the dataset, while down-sampling involves randomly removing samples from the majority class to decrease its representation.\n",
    "\n",
    "For example, if we have a dataset with 100 samples, where 90 samples belong to the majority class and 10 samples belong to the minority class, we can up-sample the minority class by randomly duplicating some samples to create a balanced dataset. Conversely, we can down-sample the majority class by randomly removing some samples to achieve the same balance.\n",
    "\n",
    "Up-sampling is usually required when the minority class is underrepresented, and we need to increase its representation to avoid bias towards the majority class. Down-sampling is useful when the majority class is too dominant, and its over-representation may lead to poor model performance on the minority class."
   ]
  },
  {
   "cell_type": "markdown",
   "id": "9016249a-236d-453a-849e-c292c5176b3c",
   "metadata": {},
   "source": [
    "Q5. Data augmentation is a technique used to artificially expand the dataset by generating new samples from the existing data using transformations such as rotations, translations, scaling, etc. SMOTE (Synthetic Minority Over-sampling Technique) is a type of data augmentation technique specifically designed for addressing the issue of imbalanced data. SMOTE generates synthetic samples of the minority class by interpolating new instances between the existing minority class samples."
   ]
  },
  {
   "cell_type": "markdown",
   "id": "b3c6c4c7-ac20-4659-b2b9-657b89c597a0",
   "metadata": {},
   "source": [
    "Q6. Outliers in a dataset refer to the data points that significantly deviate from the rest of the data. Handling outliers is essential because they can have a significant impact on statistical analyses and machine learning models. Outliers can lead to biased estimates, affect the accuracy of the model, and reduce the model's generalization ability. Therefore, it is essential to detect and handle outliers by either removing them or transforming them into acceptable values."
   ]
  },
  {
   "cell_type": "markdown",
   "id": "57c9ccc0-c6df-481d-947d-fb5cb5fd657f",
   "metadata": {},
   "source": [
    "Q7. There are several techniques that can be used to handle missing data, including:\n",
    "\n",
    "Removing rows or columns with missing values,\n",
    "Imputing missing values using statistical measures such as mean, median, or mode,\n",
    "Using regression analysis to predict missing values,\n",
    "Using machine learning algorithms that can handle missing values, such as decision trees or random forests,\n",
    "Using advanced imputation techniques, such as K-nearest neighbors or multiple imputation"
   ]
  },
  {
   "cell_type": "markdown",
   "id": "f0855d60-677b-48ef-8fbc-754133b5ec4c",
   "metadata": {},
   "source": [
    "Q8. To determine if the missing data is missing at random or if there is a pattern to the missing data, you can use techniques such as:\n",
    "\n",
    "Visualizing missing data patterns using heatmaps or dendrograms,\n",
    "Conducting hypothesis tests to determine if there is a significant difference between the data with missing values and the data without missing values,\n",
    "Using imputation techniques based on the type of missing data, such as mean imputation for missing completely at random (MCAR), regression imputation for missing at random (MAR), and multiple imputation for missing not at random (MNAR)"
   ]
  },
  {
   "cell_type": "markdown",
   "id": "ba4df3ba-3fcd-4ec1-8dd7-92e1254d1417",
   "metadata": {},
   "source": [
    "Q9. Some strategies to evaluate the performance of a machine learning model on an imbalanced dataset include:\n",
    "\n",
    "Using evaluation metrics that account for class imbalance, such as F1 score, precision-recall curve, or area under the ROC curve (AUC-ROC),\n",
    "Using cost-sensitive learning, where the misclassification costs are weighted based on the class distribution,\n",
    "Using resampling techniques such as up-sampling or down-sampling to balance the dataset,\n",
    "Using ensemble methods such as bagging, boosting, or stacking to improve model performance on the minority class"
   ]
  },
  {
   "cell_type": "markdown",
   "id": "e731af50-6c8e-4b74-9ca3-ce1d94b9ce5a",
   "metadata": {},
   "source": [
    "Q10. To balance the dataset and down-sample the majority class, you can use techniques such as:\n",
    "\n",
    "Random under-sampling, where a random subset of the majority class is selected and removed from the dataset"
   ]
  },
  {
   "cell_type": "code",
   "execution_count": null,
   "id": "94b033a2-b1ab-4049-8509-cedb732f2fcb",
   "metadata": {},
   "outputs": [],
   "source": []
  }
 ],
 "metadata": {
  "kernelspec": {
   "display_name": "Python 3 (ipykernel)",
   "language": "python",
   "name": "python3"
  },
  "language_info": {
   "codemirror_mode": {
    "name": "ipython",
    "version": 3
   },
   "file_extension": ".py",
   "mimetype": "text/x-python",
   "name": "python",
   "nbconvert_exporter": "python",
   "pygments_lexer": "ipython3",
   "version": "3.10.8"
  }
 },
 "nbformat": 4,
 "nbformat_minor": 5
}
