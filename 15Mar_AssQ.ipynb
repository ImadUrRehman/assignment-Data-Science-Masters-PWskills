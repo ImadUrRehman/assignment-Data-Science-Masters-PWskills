{
 "cells": [
  {
   "cell_type": "markdown",
   "id": "41c7fb31-2b8f-442e-b91a-e0ef96342063",
   "metadata": {},
   "source": [
    "### 1\n",
    "Artificial Intelligence (AI) refers to the simulation of human intelligence in machines that are programmed to think and learn like humans.\n",
    "\n",
    "Machine learning (ML) is a subset of AI that focuses on the development of algorithms that can learn from and make predictions on data.\n",
    "\n",
    "Deep learning (DL) is a subset of ML that uses artificial neural networks with many layers to learn and make predictions on complex data."
   ]
  },
  {
   "cell_type": "markdown",
   "id": "2b2f0933-7383-4350-85e6-ee5dd4964eca",
   "metadata": {},
   "source": [
    "### 2\n",
    "Supervised learning is a type of machine learning where the algorithm is trained on labeled data, where the input and output pairs are known. The algorithm learns to map the input to the correct output through the training process, and then it can make predictions on new, unseen data. Examples of supervised learning include image classification, speech recognition, and sentiment analysis."
   ]
  },
  {
   "cell_type": "markdown",
   "id": "c0450510-06a6-4f9d-927d-2abcca973d19",
   "metadata": {},
   "source": [
    "### 3 \n",
    "Unsupervised learning is a type of machine learning where the algorithm is trained on unlabeled data, where there is no output associated with the input data. The algorithm learns to find patterns and relationships in the data through the training process, and then it can be used to make predictions or gain insights on new, unseen data. Examples of unsupervised learning include clustering, anomaly detection, and dimensionality reduction."
   ]
  },
  {
   "cell_type": "markdown",
   "id": "ac4039d5-ee50-4844-b871-565000f79a43",
   "metadata": {},
   "source": [
    "### 4\n",
    "AI refers to the simulation of human intelligence in machines, while ML is a subset of AI that focuses on algorithms that can learn from data. DL is a subset of ML that uses artificial neural networks with many layers to learn and make predictions on complex data. DS (Data Science) is a broader field that encompasses various aspects of data analysis, including statistics, machine learning, data visualization, and data engineering."
   ]
  },
  {
   "cell_type": "markdown",
   "id": "de6e88d0-b078-492f-bf5e-9f8aaf311a65",
   "metadata": {},
   "source": [
    "### 5\n",
    "Supervised learning involves training on labeled data, unsupervised learning involves training on unlabeled data, and semi-supervised learning involves training on a combination of labeled and unlabeled data. In supervised learning, the algorithm learns to map inputs to outputs. In unsupervised learning, the algorithm learns to find patterns and relationships in the data. In semi-supervised learning, the algorithm learns to use both labeled and unlabeled data to make predictions."
   ]
  },
  {
   "cell_type": "markdown",
   "id": "36263623-f1b8-48cb-bfa6-b0055f93ab58",
   "metadata": {},
   "source": [
    "### 6\n",
    "The train-test-validation split is a common approach used in machine learning to evaluate the performance of a model. The dataset is divided into three subsets: the training set, the validation set, and the test set. The training set is used to train the model, the validation set is used to evaluate the performance of the model during training, and the test set is used to evaluate the final performance of the model on unseen data. The validation set helps to prevent overfitting, and the test set provides an unbiased estimate of the performance of the model."
   ]
  },
  {
   "cell_type": "markdown",
   "id": "68580512-c331-4490-b6f6-6fa3dcee7ea5",
   "metadata": {},
   "source": [
    "### 7 \n",
    "Unsupervised learning can be used in anomaly detection by training the algorithm on normal data, and then using it to detect any data points that deviate significantly from the learned normal patterns. This approach is often used in situations where it is difficult or impossible to obtain labeled data for anomalies. For example, in network intrusion detection, unsupervised learning can be used to detect abnormal network traffic patterns that could indicate a potential intrusion. Clustering algorithms can also be used to identify unusual groups of data points that could represent anomalies. Overall, unsupervised learning provides a powerful tool for anomaly detection in situations where labeled data is limited or unavailable."
   ]
  },
  {
   "cell_type": "markdown",
   "id": "daa77b97-dde3-4b66-901c-64dfb5b766dc",
   "metadata": {},
   "source": [
    "### 8\n",
    "Commonly used supervised learning algorithms:\n",
    "\n",
    "Linear regression,\n",
    "Logistic regression,\n",
    "Decision trees,\n",
    "Random forests,\n",
    "Support vector machines (SVM)\n",
    ",Naive Bayes\n",
    ",k-Nearest Neighbors (k-NN)\n",
    ",Neural networks\n",
    "\n",
    "\n",
    "Commonly used unsupervised learning algorithms:\n",
    "\n",
    ",Clustering (k-means, hierarchical clustering)\n",
    ",Principal Component Analysis (PCA)\n",
    ",Independent Component Analysis (ICA)\n",
    ",Anomaly detection (One-Class SVM, Isolation Forest)\n",
    ",Association rule learning (Apriori, FP-growth)\n",
    ",Self-organizing maps (SOM)\n",
    ",Autoencoders"
   ]
  },
  {
   "cell_type": "code",
   "execution_count": null,
   "id": "0971508f-ef11-46e2-94e8-a6f83dde1a89",
   "metadata": {},
   "outputs": [],
   "source": []
  }
 ],
 "metadata": {
  "kernelspec": {
   "display_name": "Python 3 (ipykernel)",
   "language": "python",
   "name": "python3"
  },
  "language_info": {
   "codemirror_mode": {
    "name": "ipython",
    "version": 3
   },
   "file_extension": ".py",
   "mimetype": "text/x-python",
   "name": "python",
   "nbconvert_exporter": "python",
   "pygments_lexer": "ipython3",
   "version": "3.10.8"
  }
 },
 "nbformat": 4,
 "nbformat_minor": 5
}
