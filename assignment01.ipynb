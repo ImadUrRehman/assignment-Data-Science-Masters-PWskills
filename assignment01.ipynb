{
 "cells": [
  {
   "cell_type": "markdown",
   "id": "0bfbf5e1",
   "metadata": {},
   "source": [
    "### \n",
    "1. Guido van Rossum\n",
    "2. object-oriented, structured, and functional programming.\n",
    "3. yes python is case sensitive when dealing with identifiers\n",
    "4. .py\n",
    "5. python code is interpreted\n",
    "6. a module, function body, class definition\n",
    "7. '#'\n",
    "8. "
   ]
  }
 ],
 "metadata": {
  "kernelspec": {
   "display_name": "Python 3 (ipykernel)",
   "language": "python",
   "name": "python3"
  },
  "language_info": {
   "codemirror_mode": {
    "name": "ipython",
    "version": 3
   },
   "file_extension": ".py",
   "mimetype": "text/x-python",
   "name": "python",
   "nbconvert_exporter": "python",
   "pygments_lexer": "ipython3",
   "version": "3.9.13"
  }
 },
 "nbformat": 4,
 "nbformat_minor": 5
}
