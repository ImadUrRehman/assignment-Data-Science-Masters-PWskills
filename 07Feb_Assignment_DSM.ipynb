{
 "cells": [
  {
   "cell_type": "code",
   "execution_count": 1,
   "id": "81a0bb8f",
   "metadata": {},
   "outputs": [],
   "source": [
    "##1\n",
    "\n",
    "def check_password(password):\n",
    "    \n",
    "    if len(password) != 10:\n",
    "        return \"Invalid Password\"\n",
    "    \n",
    "   \n",
    "    num_uppercase = len([c for c in password if c.isupper()])\n",
    "    num_lowercase = len([c for c in password if c.islower()])\n",
    "    if num_uppercase < 2 or num_lowercase < 2:\n",
    "        return \"Invalid Password\"\n",
    "    \n",
    "    \n",
    "    num_numbers = len([c for c in password if c.isdigit()])\n",
    "    num_special_chars = len([c for c in password if not c.isalnum()])\n",
    "    if num_numbers < 1 or num_special_chars < 3:\n",
    "        return \"Invalid Password\"\n",
    "    \n",
    "    \n",
    "    return \"Valid Password\"\n"
   ]
  },
  {
   "cell_type": "code",
   "execution_count": 8,
   "id": "e6893ee0",
   "metadata": {},
   "outputs": [
    {
     "data": {
      "text/plain": [
       "True"
      ]
     },
     "execution_count": 8,
     "metadata": {},
     "output_type": "execute_result"
    }
   ],
   "source": [
    "##2\n",
    "# Check if the string starts with a particular letter\n",
    "s = \"pw skills\"\n",
    "test = lambda s:True if s[0].lower()=='p' else False\n",
    "\n",
    "test(s)"
   ]
  },
  {
   "cell_type": "code",
   "execution_count": 32,
   "id": "5ff0f413",
   "metadata": {},
   "outputs": [],
   "source": [
    "##2\n",
    "# Check if the string is numeric\n",
    "s1 = \"12354\"\n",
    "test1 = lambda s1: s1.isnumeric()"
   ]
  },
  {
   "cell_type": "code",
   "execution_count": 34,
   "id": "2311028e",
   "metadata": {},
   "outputs": [
    {
     "data": {
      "text/plain": [
       "False"
      ]
     },
     "execution_count": 34,
     "metadata": {},
     "output_type": "execute_result"
    }
   ],
   "source": [
    "test1('28391273]a892')"
   ]
  },
  {
   "cell_type": "code",
   "execution_count": 41,
   "id": "a5c78ca3",
   "metadata": {},
   "outputs": [
    {
     "name": "stdout",
     "output_type": "stream",
     "text": [
      "[('orange', 80), ('mango', 99), ('grapes', 1000)]\n"
     ]
    }
   ],
   "source": [
    "##2\n",
    "#Sort a list of tuples having fruit names and their quantity. [(\"mango\",99),(\"orange\",80), (\"grapes\", 1000)]\n",
    "l = [(\"mango\", 99), (\"orange\", 80), (\"grapes\", 1000)]\n",
    "sorted_list = sorted(l, key=lambda x: x[1])\n",
    "\n",
    "print(sorted_list)\n"
   ]
  },
  {
   "cell_type": "code",
   "execution_count": 43,
   "id": "f331bf28",
   "metadata": {},
   "outputs": [
    {
     "data": {
      "text/plain": [
       "[1, 4, 9, 16, 25, 36, 49, 64, 81, 100]"
      ]
     },
     "execution_count": 43,
     "metadata": {},
     "output_type": "execute_result"
    }
   ],
   "source": [
    "##2\n",
    "#Find the squares of numbers from 1 to 10\n",
    "l1 = [i**2 for i in range(1,11)]\n",
    "l1"
   ]
  },
  {
   "cell_type": "code",
   "execution_count": 45,
   "id": "deab63a9",
   "metadata": {},
   "outputs": [
    {
     "data": {
      "text/plain": [
       "[1.0,\n",
       " 1.2599210498948732,\n",
       " 1.4422495703074083,\n",
       " 1.5874010519681994,\n",
       " 1.7099759466766968,\n",
       " 1.8171205928321397,\n",
       " 1.912931182772389,\n",
       " 2.0,\n",
       " 2.080083823051904,\n",
       " 2.154434690031884]"
      ]
     },
     "execution_count": 45,
     "metadata": {},
     "output_type": "execute_result"
    }
   ],
   "source": [
    "##2\n",
    "#Find the cube root of numbers from 1 to 10\n",
    "l2 = [i**(1/3) for i in range(1,11)]\n",
    "l2"
   ]
  },
  {
   "cell_type": "code",
   "execution_count": 46,
   "id": "8bb588ac",
   "metadata": {},
   "outputs": [],
   "source": [
    "##2\n",
    "##Check if a given number is even\n",
    "num = 328\n",
    "test3 = lambda num: True if num%2==0 else False"
   ]
  },
  {
   "cell_type": "code",
   "execution_count": 47,
   "id": "82116a7f",
   "metadata": {},
   "outputs": [
    {
     "data": {
      "text/plain": [
       "False"
      ]
     },
     "execution_count": 47,
     "metadata": {},
     "output_type": "execute_result"
    }
   ],
   "source": [
    "test3(2813798121)"
   ]
  },
  {
   "cell_type": "code",
   "execution_count": 50,
   "id": "85405b6d",
   "metadata": {},
   "outputs": [
    {
     "data": {
      "text/plain": [
       "[1, 3, 5, 7, 9]"
      ]
     },
     "execution_count": 50,
     "metadata": {},
     "output_type": "execute_result"
    }
   ],
   "source": [
    "#2\n",
    "##Filter odd numbers from the given list.\n",
    "l3 = [1,2,3,4,5,6,7,8,9,10]\n",
    "list(filter(lambda x:x%2!=0 ,l3))"
   ]
  },
  {
   "cell_type": "code",
   "execution_count": 54,
   "id": "c8d60a04",
   "metadata": {},
   "outputs": [
    {
     "data": {
      "text/plain": [
       "[[-1, -2, -3, -4, -5], [1, 2, 3, 4, 5, 6]]"
      ]
     },
     "execution_count": 54,
     "metadata": {},
     "output_type": "execute_result"
    }
   ],
   "source": [
    "##2\n",
    "#Sort a list of integers into positive and negative integers lists.\n",
    "l4 = [1,2,3,4,5,6,-1,-2,-3,-4,-5,0]\n",
    "[list(filter(lambda x:x<0,l4)),list(filter(lambda x:x>0,l4))]"
   ]
  },
  {
   "cell_type": "code",
   "execution_count": null,
   "id": "6bd16cf1",
   "metadata": {},
   "outputs": [],
   "source": []
  }
 ],
 "metadata": {
  "kernelspec": {
   "display_name": "Python 3 (ipykernel)",
   "language": "python",
   "name": "python3"
  },
  "language_info": {
   "codemirror_mode": {
    "name": "ipython",
    "version": 3
   },
   "file_extension": ".py",
   "mimetype": "text/x-python",
   "name": "python",
   "nbconvert_exporter": "python",
   "pygments_lexer": "ipython3",
   "version": "3.9.13"
  }
 },
 "nbformat": 4,
 "nbformat_minor": 5
}
