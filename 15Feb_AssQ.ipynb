{
 "cells": [
  {
   "cell_type": "markdown",
   "id": "675bc61a-3cd0-46c8-a619-2fcf1ed78f0c",
   "metadata": {},
   "source": [
    "Q1. What is multiprocessing in python? Why is it useful?\n",
    "\n",
    "Multiprocessing in Python is a technique that allows a program to use multiple processors or cores of a \n",
    "computer to perform tasks in parallel. In simple terms, it enables a program to execute multiple tasks \n",
    "simultaneously by distributing them among multiple processors. Multiprocessing is useful for speeding up \n",
    "computationally intensive tasks, such as image processing, data analysis, and simulations, by utilizing the power\n",
    "of multiple processors available on a computer.\n",
    "\n",
    "\n",
    "\n"
   ]
  },
  {
   "cell_type": "markdown",
   "id": "b3287672-de82-4b3a-94df-56b6a76b585b",
   "metadata": {},
   "source": [
    "Q2. What are the differences between multiprocessing and multithreading?\n",
    "\n",
    "The main differences between multiprocessing and multithreading are as follows:\n",
    "\n",
    "Multiprocessing involves running multiple processes in parallel, while multithreading involves running multiple\n",
    "threads within a single process.\n",
    "Multiprocessing is generally more suitable for CPU-bound tasks that require a lot of processing power,while \n",
    "multithreading is more suitable for I/O-bound tasks that involve waiting for external resources, such as files or \n",
    "network connections.\n",
    "In multiprocessing, each process has its own memory space, while in multithreading, all threads share the same \n",
    "memory space.\n",
    "Multiprocessing can be used to take advantage of multiple CPUs or cores, while multithreading is limited by the \n",
    "number of available threads within a process.\n",
    "\n",
    "\n"
   ]
  },
  {
   "cell_type": "code",
   "execution_count": 3,
   "id": "01532ff2-faf1-4566-8bfb-ed4d3be5476f",
   "metadata": {},
   "outputs": [
    {
     "name": "stdout",
     "output_type": "stream",
     "text": [
      "Process 1 is running.\n"
     ]
    }
   ],
   "source": [
    "# Q3. Write a python code to create a process using the multiprocessing module.\n",
    "\n",
    "import multiprocessing\n",
    "\n",
    "def my_func(x):\n",
    "    print(f\"Process {x} is running.\")\n",
    "\n",
    "if __name__ == \"__main__\":\n",
    "    p = multiprocessing.Process(target=my_func, args=(1,))\n",
    "    p.start()\n",
    "    p.join()\n"
   ]
  },
  {
   "cell_type": "markdown",
   "id": "2ce0e8c0-97cc-49b7-8e95-583d87c45783",
   "metadata": {},
   "source": [
    "Q4. What is a multiprocessing pool in python? Why is it used?\n",
    "\n",
    "A multiprocessing pool in Python is a collection of worker processes that can be used to execute multiple tasks simultaneously. The pool assigns tasks to the available worker processes, which can complete the tasks in parallel, allowing for faster execution times.\n",
    "\n",
    "A multiprocessing pool is useful when we need to execute a large number of tasks that are independent of each other. Instead of creating a new process for each task, we can create a pool of worker processes that can execute the tasks concurrently, resulting in faster execution times."
   ]
  },
  {
   "cell_type": "code",
   "execution_count": 7,
   "id": "5c8d7251-a2ca-4b10-9f49-31d750648bca",
   "metadata": {},
   "outputs": [
    {
     "name": "stdout",
     "output_type": "stream",
     "text": [
      "test 0\n",
      "test 2\n",
      "test 1\n",
      "test 3\n",
      "\n",
      "\n",
      "\n",
      "\n",
      "[None, None, None, None]\n"
     ]
    }
   ],
   "source": [
    "#Q5. How can we create a pool of worker processes in python using the multiprocessing module?\n",
    "\n",
    "import multiprocessing\n",
    "\n",
    "def test(number):\n",
    "    \n",
    "    print(\"test %d\\n\" % number)\n",
    "\n",
    "if __name__ == '__main__':\n",
    "    \n",
    "    with multiprocessing.Pool(processes = 4) as pool:\n",
    "        out = pool.map(test,[0,1,2,3])\n",
    "        print(out)"
   ]
  },
  {
   "cell_type": "code",
   "execution_count": 10,
   "id": "7f28e19f-2558-481d-b704-734b62ba05c5",
   "metadata": {},
   "outputs": [
    {
     "name": "stdout",
     "output_type": "stream",
     "text": [
      "Process ID: Process-21  Process ID:Number: Process-220Process ID: \n",
      " Number:Process-23 Process ID: 1Number: \n",
      " Process-242 \n",
      "Number: 3\n"
     ]
    }
   ],
   "source": [
    "# Q6. Write a python program to create 4 processes, each process should print a different number using the \n",
    "# multiprocessing module in python.\n",
    "\n",
    "import multiprocessing\n",
    "\n",
    "def print_number(num):\n",
    "    print(\"Process ID:\", multiprocessing.current_process().name, \"Number:\", num)\n",
    "\n",
    "if __name__ == '__main__':\n",
    "    processes = []\n",
    "    for i in range(4):\n",
    "        p = multiprocessing.Process(target=print_number, args=(i,))\n",
    "        processes.append(p)\n",
    "        p.start()\n",
    "    for process in processes:\n",
    "        process.join()\n",
    "\n"
   ]
  },
  {
   "cell_type": "code",
   "execution_count": null,
   "id": "9833c3b6-ae96-41f4-bfea-38dd8860c6fc",
   "metadata": {},
   "outputs": [],
   "source": []
  }
 ],
 "metadata": {
  "kernelspec": {
   "display_name": "Python 3 (ipykernel)",
   "language": "python",
   "name": "python3"
  },
  "language_info": {
   "codemirror_mode": {
    "name": "ipython",
    "version": 3
   },
   "file_extension": ".py",
   "mimetype": "text/x-python",
   "name": "python",
   "nbconvert_exporter": "python",
   "pygments_lexer": "ipython3",
   "version": "3.10.8"
  }
 },
 "nbformat": 4,
 "nbformat_minor": 5
}
