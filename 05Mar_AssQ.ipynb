{
  "nbformat": 4,
  "nbformat_minor": 0,
  "metadata": {
    "colab": {
      "provenance": []
    },
    "kernelspec": {
      "name": "python3",
      "display_name": "Python 3"
    },
    "language_info": {
      "name": "python"
    }
  },
  "cells": [
    {
      "cell_type": "markdown",
      "source": [
        "#1\n",
        "To create a Bokeh plot using Python, you first need to install the Bokeh library using pip. Once installed, you can create a basic Bokeh plot by following these steps:\n",
        "\n",
        "Import the necessary modules: from bokeh.plotting import figure, show\n",
        "Create a new figure: p = figure()\n",
        "Add data to the figure: p.circle([1, 2, 3, 4, 5], [2, 5, 8, 3, 6])\n",
        "Show the figure: show(p)\n",
        "This will create a simple scatter plot with circles at the points (1,2), (2,5), (3,8), (4,3), and (5,6)."
      ],
      "metadata": {
        "id": "AlchbHuJMfWB"
      }
    },
    {
      "cell_type": "markdown",
      "source": [
        "#2 \n",
        "Glyphs are basic shapes, such as circles, rectangles, and lines, that are used to represent data in a Bokeh plot. You can add glyphs to a Bokeh plot by calling a glyph method on the figure object. For example, to add circles to a plot, you would call the circle() method."
      ],
      "metadata": {
        "id": "mVo55fVyM7Kv"
      }
    },
    {
      "cell_type": "markdown",
      "source": [
        "#3\n",
        "You can customize the appearance of a Bokeh plot in several ways, including changing the title, axis labels, colors, and legend"
      ],
      "metadata": {
        "id": "hwi5P_2NNDz8"
      }
    },
    {
      "cell_type": "markdown",
      "source": [
        "#4\n",
        "A Bokeh server is a way to create and deploy interactive Bokeh plots that can be updated in real time. The Bokeh server allows you to create dynamic web applications that can respond to user input, such as slider widgets or drop-down menusTo use the Bokeh server, you need to first create a Python script that defines the layout and behavior of your Bokeh plot. This script will typically use the Bokeh library to create and modify the plot, as well as the Bokeh server library to define the interaction with the user."
      ],
      "metadata": {
        "id": "C2Q8kYeaNXNX"
      }
    },
    {
      "cell_type": "markdown",
      "source": [
        "#5\n",
        "To embed a Bokeh plot into a web page or dashboard using Flask or Django, you first need to create a Bokeh plot using Python code, as described earlier. Then, you can use the components() function from the bokeh.embed module to generate the HTML and JavaScript code needed to embed the plot into your web page."
      ],
      "metadata": {
        "id": "IhOVTQqkNlgy"
      }
    }
  ]
}