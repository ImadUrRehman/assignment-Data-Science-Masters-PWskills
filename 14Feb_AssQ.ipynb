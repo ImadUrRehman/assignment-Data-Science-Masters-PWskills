{
 "cells": [
  {
   "cell_type": "markdown",
   "id": "d06a0a53-69fa-4b94-b447-b0d3367683ac",
   "metadata": {},
   "source": [
    "Q1 what is multithreading in python? why is it used? Name the module used to handle threads in python\n",
    "\n",
    "\n",
    "Multithreading in Python is a programming concept that allows for concurrent execution of multiple threads \n",
    "within a single process.\n",
    "It enables a program to perform multiple tasks simultaneously by dividing them into smaller units of work, \n",
    "known as threads.\n",
    "\n",
    "The threading module is used to handle threads in Python.\n",
    "It provides a simple way to create and manage threads in Python.\n",
    "\n",
    "\n"
   ]
  },
  {
   "cell_type": "markdown",
   "id": "1283d6ef-1a64-41e5-b6ad-672119692ddd",
   "metadata": {},
   "source": [
    "Q2\n",
    "\n",
    "The threading module in Python is used to create and manage threads in a program.\n",
    "\n",
    "activeCount(): This function returns the number of currently active Thread objects in the program.\n",
    "\n",
    "\n",
    "currentThread(): This function returns a Thread object representing the current thread of execution.\n",
    "\n",
    "enumerate(): This function returns a list of all Thread objects currently active in the program.\n",
    "\n",
    "\n"
   ]
  },
  {
   "cell_type": "markdown",
   "id": "fdedac0a-9c56-4da2-9e34-07133f6611b9",
   "metadata": {},
   "source": [
    "Q3\n",
    "\n",
    "run(): This function is used to define the behavior of a thread. When a thread is started, \n",
    "its run() method is called, and the code in the method is executed in a separate thread. \n",
    "\n",
    "\n",
    "start(): This function is used to start a thread. When the start() function is called on a thread object, \n",
    "it creates a new thread and begins executing the code in the run() method of the thread object.\n",
    "\n",
    "\n",
    "\n",
    "join(): This function is used to wait for a thread to complete before continuing with the rest of the program. \n",
    "When the join() function is called on a thread object,\n",
    "the program will block until the thread has completed its execution.\n",
    "\n",
    "\n",
    "\n",
    "isAlive(): This function is used to check whether a thread is currently executing. \n",
    "When the isAlive() function is called on a thread object, it returns True if the thread is currently executing,\n",
    "and False otherwise. This function can be useful for determining whether a \n",
    "thread has completed its execution or not.\n",
    "\n"
   ]
  },
  {
   "cell_type": "code",
   "execution_count": 6,
   "id": "7314dec8-526d-46f3-815c-aa86472b8292",
   "metadata": {},
   "outputs": [
    {
     "name": "stdout",
     "output_type": "stream",
     "text": [
      "1\n",
      "4\n",
      "9\n",
      "16\n",
      "25\n",
      "36\n",
      "49\n",
      "64\n",
      "81\n",
      "100\n",
      "1\n",
      "4\n",
      "9\n",
      "16\n",
      "25\n",
      "36\n",
      "49\n",
      "64\n",
      "81\n",
      "100\n"
     ]
    }
   ],
   "source": [
    "#Q4\n",
    "import threading\n",
    "import time\n",
    "\n",
    "def Square(x):\n",
    "    print(x**2)\n",
    "    time.sleep(1)\n",
    "    \n",
    "    \n",
    "def Cube(y):\n",
    "    print(y**2)\n",
    "    time.sleep(1)\n",
    "    \n",
    "    \n",
    "thread1 = [threading.Thread(target=Square, args = (i,)) for i in range(1,11) ]\n",
    "\n",
    "thread2 = [threading.Thread(target=Cube, args = (i,)) for i in range(1,11) ]\n",
    "\n",
    "for a in thread1:\n",
    "    a.start()\n",
    "\n",
    "for b in thread2:\n",
    "    b.start()"
   ]
  },
  {
   "cell_type": "markdown",
   "id": "dde3ee16-f731-4611-ad73-db317894cf9d",
   "metadata": {},
   "source": [
    "Q5\n",
    "\n",
    "Advantages of multithreading include improved performance, resource utilization, responsiveness,\n",
    "modular programming, and fault tolerance.\n",
    "\n",
    "Disadvantages of multithreading include increased complexity, synchronization issues, increased memory usage,\n",
    "reduced predictability, and debugging difficulties.\n",
    "\n"
   ]
  },
  {
   "cell_type": "markdown",
   "id": "3f036dca-6d6a-4756-a83e-654dbb2a7cf8",
   "metadata": {},
   "source": [
    "Q6\n",
    "\n",
    "\n",
    "\n",
    "Deadlocks: A deadlock occurs when two or more threads are blocked waiting for each other to release a \n",
    "resource that they need to proceed. This can happen when two or more threads each hold a resource that the other\n",
    "thread needs, and they are unable to release their own resource until they acquire the other resource. \n",
    "As a result, both threads end up waiting indefinitely, causing a deadlock.\n",
    "\n",
    "\n",
    "\n",
    "Race conditions: A race condition occurs when two or more threads access a shared resource concurrently, and the\n",
    "outcome of the program depends on the order in which the threads execute. This can lead to unpredictable behavior\n",
    "and bugs in the program. For example, if two threads increment a shared counter concurrently,\n",
    "the final value of the counter may not be what was expected, as the threads may overwrite each other's changes."
   ]
  },
  {
   "cell_type": "code",
   "execution_count": null,
   "id": "7a9b0226-31f7-49c6-99b0-48acc27b89c5",
   "metadata": {},
   "outputs": [],
   "source": []
  },
  {
   "cell_type": "code",
   "execution_count": null,
   "id": "4563f913-1e26-4363-8b4a-f4493cde7f3f",
   "metadata": {},
   "outputs": [],
   "source": []
  },
  {
   "cell_type": "code",
   "execution_count": null,
   "id": "99b625be-a891-4f98-b82a-ecc20f5ab8c0",
   "metadata": {},
   "outputs": [],
   "source": []
  }
 ],
 "metadata": {
  "kernelspec": {
   "display_name": "Python 3 (ipykernel)",
   "language": "python",
   "name": "python3"
  },
  "language_info": {
   "codemirror_mode": {
    "name": "ipython",
    "version": 3
   },
   "file_extension": ".py",
   "mimetype": "text/x-python",
   "name": "python",
   "nbconvert_exporter": "python",
   "pygments_lexer": "ipython3",
   "version": "3.10.8"
  }
 },
 "nbformat": 4,
 "nbformat_minor": 5
}
